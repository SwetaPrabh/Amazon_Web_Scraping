{
 "cells": [
  {
   "cell_type": "code",
   "execution_count": 24,
   "metadata": {},
   "outputs": [],
   "source": [
    "import pandas as pd\n",
    "import pprint\n",
    "pp = pprint.PrettyPrinter(indent =4)"
   ]
  },
  {
   "cell_type": "markdown",
   "metadata": {},
   "source": [
    "I will use the CSV files created in part 2 of my project. The following files were created:\n",
    "1. Data from 2014\n",
    "2. Scraped data from 2021"
   ]
  },
  {
   "cell_type": "code",
   "execution_count": 27,
   "metadata": {},
   "outputs": [],
   "source": [
    "Amazon_beauty_data= pd.read_csv('Final_Beauty_Data.csv')"
   ]
  },
  {
   "cell_type": "code",
   "execution_count": 28,
   "metadata": {},
   "outputs": [
    {
     "data": {
      "text/html": [
       "<div>\n",
       "<style scoped>\n",
       "    .dataframe tbody tr th:only-of-type {\n",
       "        vertical-align: middle;\n",
       "    }\n",
       "\n",
       "    .dataframe tbody tr th {\n",
       "        vertical-align: top;\n",
       "    }\n",
       "\n",
       "    .dataframe thead th {\n",
       "        text-align: right;\n",
       "    }\n",
       "</style>\n",
       "<table border=\"1\" class=\"dataframe\">\n",
       "  <thead>\n",
       "    <tr style=\"text-align: right;\">\n",
       "      <th></th>\n",
       "      <th>Unnamed: 0</th>\n",
       "      <th>asin</th>\n",
       "      <th>helpful</th>\n",
       "      <th>Not helpful</th>\n",
       "      <th>review_concat</th>\n",
       "      <th>summary_concat</th>\n",
       "      <th>overall rating</th>\n",
       "      <th>name</th>\n",
       "      <th>category</th>\n",
       "      <th>description</th>\n",
       "      <th>price</th>\n",
       "      <th>rating</th>\n",
       "      <th>No_of_Rating</th>\n",
       "    </tr>\n",
       "  </thead>\n",
       "  <tbody>\n",
       "    <tr>\n",
       "      <th>0</th>\n",
       "      <td>0</td>\n",
       "      <td>B00KWE08Q0</td>\n",
       "      <td>0.9</td>\n",
       "      <td>0.9</td>\n",
       "      <td>love brush I never tried mini kabuki brush one...</td>\n",
       "      <td>love brush great brush perfect countouring gre...</td>\n",
       "      <td>5</td>\n",
       "      <td>Mini Kabuki Makeup Brush Set – Beauty Junkees ...</td>\n",
       "      <td>Tools &amp; Accessories</td>\n",
       "      <td>Brand\\n\\n\\nBeauty Junkees\\n\\n\\n\\n\\nColor\\n\\n\\n...</td>\n",
       "      <td>19.97</td>\n",
       "      <td>4.6</td>\n",
       "      <td>1366</td>\n",
       "    </tr>\n",
       "    <tr>\n",
       "      <th>1</th>\n",
       "      <td>1</td>\n",
       "      <td>B004W75SLI</td>\n",
       "      <td>1.6</td>\n",
       "      <td>3.2</td>\n",
       "      <td>great mask clear skin never tried type mask re...</td>\n",
       "      <td>five star awesome improvement not clear enough...</td>\n",
       "      <td>5</td>\n",
       "      <td>Origins Clear Improvement Active Charcoal Mask...</td>\n",
       "      <td>Skin Care</td>\n",
       "      <td>Brand\\n\\n\\nOrigins\\n\\n\\n\\n\\nSkin Type\\n\\n\\nAll...</td>\n",
       "      <td>14.25</td>\n",
       "      <td>4.5</td>\n",
       "      <td>1082</td>\n",
       "    </tr>\n",
       "    <tr>\n",
       "      <th>2</th>\n",
       "      <td>2</td>\n",
       "      <td>B00JL2TURM</td>\n",
       "      <td>1.3</td>\n",
       "      <td>1.6</td>\n",
       "      <td>received product consideration tomoson like id...</td>\n",
       "      <td>nice natural exfoliant freaking cool amazing w...</td>\n",
       "      <td>5</td>\n",
       "      <td>pureSOL Konjac Sponge - Activated Charcoal - F...</td>\n",
       "      <td>Personal Care</td>\n",
       "      <td>Color\\n\\n\\nBamboo Charcoal\\n\\n\\n\\n\\nBrand\\n\\n\\...</td>\n",
       "      <td>10.00</td>\n",
       "      <td>4.2</td>\n",
       "      <td>2466</td>\n",
       "    </tr>\n",
       "    <tr>\n",
       "      <th>3</th>\n",
       "      <td>3</td>\n",
       "      <td>B003WNXZZO</td>\n",
       "      <td>3.8</td>\n",
       "      <td>5.6</td>\n",
       "      <td>unfortunately burn skinnormal rose water doesn...</td>\n",
       "      <td>unfortunately burn skin normal rose water not ...</td>\n",
       "      <td>1</td>\n",
       "      <td>Shea Terra Organics Beauty Water, Toner &amp; Face...</td>\n",
       "      <td>Skin Care</td>\n",
       "      <td>Ingredients\\n\\n\\nPure Moroccan rose water, Est...</td>\n",
       "      <td>15.75</td>\n",
       "      <td>4.3</td>\n",
       "      <td>120</td>\n",
       "    </tr>\n",
       "    <tr>\n",
       "      <th>4</th>\n",
       "      <td>4</td>\n",
       "      <td>B001B7GJ2E</td>\n",
       "      <td>1.7</td>\n",
       "      <td>2.2</td>\n",
       "      <td>amazing tool hat like little curve end side ma...</td>\n",
       "      <td>amazing attention mom help teen prevent pockma...</td>\n",
       "      <td>5</td>\n",
       "      <td>Body Toolz Double Loop Facial Skin Care Tool</td>\n",
       "      <td>Tools &amp; Accessories</td>\n",
       "      <td>Brand\\n\\n\\nBody Toolz\\n\\n\\n\\n\\nMaterial\\n\\n\\nS...</td>\n",
       "      <td>7.75</td>\n",
       "      <td>4.1</td>\n",
       "      <td>673</td>\n",
       "    </tr>\n",
       "  </tbody>\n",
       "</table>\n",
       "</div>"
      ],
      "text/plain": [
       "   Unnamed: 0        asin  helpful  Not helpful  \\\n",
       "0           0  B00KWE08Q0      0.9          0.9   \n",
       "1           1  B004W75SLI      1.6          3.2   \n",
       "2           2  B00JL2TURM      1.3          1.6   \n",
       "3           3  B003WNXZZO      3.8          5.6   \n",
       "4           4  B001B7GJ2E      1.7          2.2   \n",
       "\n",
       "                                       review_concat  \\\n",
       "0  love brush I never tried mini kabuki brush one...   \n",
       "1  great mask clear skin never tried type mask re...   \n",
       "2  received product consideration tomoson like id...   \n",
       "3  unfortunately burn skinnormal rose water doesn...   \n",
       "4  amazing tool hat like little curve end side ma...   \n",
       "\n",
       "                                      summary_concat  overall rating  \\\n",
       "0  love brush great brush perfect countouring gre...               5   \n",
       "1  five star awesome improvement not clear enough...               5   \n",
       "2  nice natural exfoliant freaking cool amazing w...               5   \n",
       "3  unfortunately burn skin normal rose water not ...               1   \n",
       "4  amazing attention mom help teen prevent pockma...               5   \n",
       "\n",
       "                                                name             category  \\\n",
       "0  Mini Kabuki Makeup Brush Set – Beauty Junkees ...  Tools & Accessories   \n",
       "1  Origins Clear Improvement Active Charcoal Mask...            Skin Care   \n",
       "2  pureSOL Konjac Sponge - Activated Charcoal - F...        Personal Care   \n",
       "3  Shea Terra Organics Beauty Water, Toner & Face...            Skin Care   \n",
       "4       Body Toolz Double Loop Facial Skin Care Tool  Tools & Accessories   \n",
       "\n",
       "                                         description  price  rating  \\\n",
       "0  Brand\\n\\n\\nBeauty Junkees\\n\\n\\n\\n\\nColor\\n\\n\\n...  19.97     4.6   \n",
       "1  Brand\\n\\n\\nOrigins\\n\\n\\n\\n\\nSkin Type\\n\\n\\nAll...  14.25     4.5   \n",
       "2  Color\\n\\n\\nBamboo Charcoal\\n\\n\\n\\n\\nBrand\\n\\n\\...  10.00     4.2   \n",
       "3  Ingredients\\n\\n\\nPure Moroccan rose water, Est...  15.75     4.3   \n",
       "4  Brand\\n\\n\\nBody Toolz\\n\\n\\n\\n\\nMaterial\\n\\n\\nS...   7.75     4.1   \n",
       "\n",
       "   No_of_Rating  \n",
       "0          1366  \n",
       "1          1082  \n",
       "2          2466  \n",
       "3           120  \n",
       "4           673  "
      ]
     },
     "execution_count": 28,
     "metadata": {},
     "output_type": "execute_result"
    }
   ],
   "source": [
    "Amazon_beauty_data.head()"
   ]
  },
  {
   "cell_type": "code",
   "execution_count": 29,
   "metadata": {
    "scrolled": true
   },
   "outputs": [
    {
     "data": {
      "text/plain": [
       "(4242, 13)"
      ]
     },
     "execution_count": 29,
     "metadata": {},
     "output_type": "execute_result"
    }
   ],
   "source": [
    "Amazon_beauty_data.shape"
   ]
  },
  {
   "cell_type": "code",
   "execution_count": 30,
   "metadata": {},
   "outputs": [
    {
     "name": "stdout",
     "output_type": "stream",
     "text": [
      "These are the features from dataset\n",
      "Index(['Unnamed: 0', 'asin', 'helpful', 'Not helpful', 'review_concat',\n",
      "       'summary_concat', 'overall rating', 'name', 'category', 'description',\n",
      "       'price', 'rating', 'No_of_Rating'],\n",
      "      dtype='object')\n"
     ]
    }
   ],
   "source": [
    "print('These are the features from dataset')\n",
    "print(Amazon_beauty_data.columns)"
   ]
  },
  {
   "cell_type": "markdown",
   "metadata": {},
   "source": [
    "There are 11 features for each asin in the dataset, out of which 5 features, 'helpful', 'Not helpful', 'review_concat','summary_concat', 'overall rating' are from old dataset \n",
    "\n",
    "6 features, 'name', 'category', 'description','price', 'rating', 'No_of_Rating' are the scraped data\n",
    "\n",
    "I will now look at the datatypes and null values of each column and see if something needs to be changed or dropped"
   ]
  },
  {
   "cell_type": "code",
   "execution_count": 39,
   "metadata": {},
   "outputs": [
    {
     "name": "stdout",
     "output_type": "stream",
     "text": [
      "<class 'pandas.core.frame.DataFrame'>\n",
      "RangeIndex: 4242 entries, 0 to 4241\n",
      "Data columns (total 12 columns):\n",
      " #   Column          Non-Null Count  Dtype  \n",
      "---  ------          --------------  -----  \n",
      " 0   asin            4242 non-null   object \n",
      " 1   helpful         4242 non-null   float64\n",
      " 2   Not helpful     4242 non-null   float64\n",
      " 3   review_concat   4242 non-null   object \n",
      " 4   summary_concat  4242 non-null   object \n",
      " 5   overall rating  4242 non-null   int64  \n",
      " 6   name            4242 non-null   object \n",
      " 7   category        4242 non-null   object \n",
      " 8   description     4242 non-null   object \n",
      " 9   price           4242 non-null   float64\n",
      " 10  rating          4242 non-null   float64\n",
      " 11  No_of_Rating    4242 non-null   int64  \n",
      "dtypes: float64(4), int64(2), object(6)\n",
      "memory usage: 397.8+ KB\n"
     ]
    }
   ],
   "source": [
    "Amazon_beauty_data.info()"
   ]
  },
  {
   "cell_type": "markdown",
   "metadata": {},
   "source": [
    "The unnamed: 0 columns can be dropped from both dataset"
   ]
  },
  {
   "cell_type": "code",
   "execution_count": 36,
   "metadata": {},
   "outputs": [],
   "source": [
    "Amazon_beauty_data= Amazon_beauty_data.drop('Unnamed: 0',1)"
   ]
  },
  {
   "cell_type": "code",
   "execution_count": 41,
   "metadata": {},
   "outputs": [
    {
     "data": {
      "text/html": [
       "<div>\n",
       "<style scoped>\n",
       "    .dataframe tbody tr th:only-of-type {\n",
       "        vertical-align: middle;\n",
       "    }\n",
       "\n",
       "    .dataframe tbody tr th {\n",
       "        vertical-align: top;\n",
       "    }\n",
       "\n",
       "    .dataframe thead th {\n",
       "        text-align: right;\n",
       "    }\n",
       "</style>\n",
       "<table border=\"1\" class=\"dataframe\">\n",
       "  <thead>\n",
       "    <tr style=\"text-align: right;\">\n",
       "      <th></th>\n",
       "      <th>asin</th>\n",
       "      <th>helpful</th>\n",
       "      <th>Not helpful</th>\n",
       "      <th>review_concat</th>\n",
       "      <th>summary_concat</th>\n",
       "      <th>overall rating</th>\n",
       "      <th>name</th>\n",
       "      <th>category</th>\n",
       "      <th>description</th>\n",
       "      <th>price</th>\n",
       "      <th>rating</th>\n",
       "      <th>No_of_Rating</th>\n",
       "    </tr>\n",
       "  </thead>\n",
       "  <tbody>\n",
       "    <tr>\n",
       "      <th>0</th>\n",
       "      <td>B00KWE08Q0</td>\n",
       "      <td>0.9</td>\n",
       "      <td>0.9</td>\n",
       "      <td>love brush I never tried mini kabuki brush one...</td>\n",
       "      <td>love brush great brush perfect countouring gre...</td>\n",
       "      <td>5</td>\n",
       "      <td>Mini Kabuki Makeup Brush Set – Beauty Junkees ...</td>\n",
       "      <td>Tools &amp; Accessories</td>\n",
       "      <td>Brand\\n\\n\\nBeauty Junkees\\n\\n\\n\\n\\nColor\\n\\n\\n...</td>\n",
       "      <td>19.97</td>\n",
       "      <td>4.6</td>\n",
       "      <td>1366</td>\n",
       "    </tr>\n",
       "    <tr>\n",
       "      <th>1</th>\n",
       "      <td>B004W75SLI</td>\n",
       "      <td>1.6</td>\n",
       "      <td>3.2</td>\n",
       "      <td>great mask clear skin never tried type mask re...</td>\n",
       "      <td>five star awesome improvement not clear enough...</td>\n",
       "      <td>5</td>\n",
       "      <td>Origins Clear Improvement Active Charcoal Mask...</td>\n",
       "      <td>Skin Care</td>\n",
       "      <td>Brand\\n\\n\\nOrigins\\n\\n\\n\\n\\nSkin Type\\n\\n\\nAll...</td>\n",
       "      <td>14.25</td>\n",
       "      <td>4.5</td>\n",
       "      <td>1082</td>\n",
       "    </tr>\n",
       "    <tr>\n",
       "      <th>2</th>\n",
       "      <td>B00JL2TURM</td>\n",
       "      <td>1.3</td>\n",
       "      <td>1.6</td>\n",
       "      <td>received product consideration tomoson like id...</td>\n",
       "      <td>nice natural exfoliant freaking cool amazing w...</td>\n",
       "      <td>5</td>\n",
       "      <td>pureSOL Konjac Sponge - Activated Charcoal - F...</td>\n",
       "      <td>Personal Care</td>\n",
       "      <td>Color\\n\\n\\nBamboo Charcoal\\n\\n\\n\\n\\nBrand\\n\\n\\...</td>\n",
       "      <td>10.00</td>\n",
       "      <td>4.2</td>\n",
       "      <td>2466</td>\n",
       "    </tr>\n",
       "    <tr>\n",
       "      <th>3</th>\n",
       "      <td>B003WNXZZO</td>\n",
       "      <td>3.8</td>\n",
       "      <td>5.6</td>\n",
       "      <td>unfortunately burn skinnormal rose water doesn...</td>\n",
       "      <td>unfortunately burn skin normal rose water not ...</td>\n",
       "      <td>1</td>\n",
       "      <td>Shea Terra Organics Beauty Water, Toner &amp; Face...</td>\n",
       "      <td>Skin Care</td>\n",
       "      <td>Ingredients\\n\\n\\nPure Moroccan rose water, Est...</td>\n",
       "      <td>15.75</td>\n",
       "      <td>4.3</td>\n",
       "      <td>120</td>\n",
       "    </tr>\n",
       "    <tr>\n",
       "      <th>4</th>\n",
       "      <td>B001B7GJ2E</td>\n",
       "      <td>1.7</td>\n",
       "      <td>2.2</td>\n",
       "      <td>amazing tool hat like little curve end side ma...</td>\n",
       "      <td>amazing attention mom help teen prevent pockma...</td>\n",
       "      <td>5</td>\n",
       "      <td>Body Toolz Double Loop Facial Skin Care Tool</td>\n",
       "      <td>Tools &amp; Accessories</td>\n",
       "      <td>Brand\\n\\n\\nBody Toolz\\n\\n\\n\\n\\nMaterial\\n\\n\\nS...</td>\n",
       "      <td>7.75</td>\n",
       "      <td>4.1</td>\n",
       "      <td>673</td>\n",
       "    </tr>\n",
       "  </tbody>\n",
       "</table>\n",
       "</div>"
      ],
      "text/plain": [
       "         asin  helpful  Not helpful  \\\n",
       "0  B00KWE08Q0      0.9          0.9   \n",
       "1  B004W75SLI      1.6          3.2   \n",
       "2  B00JL2TURM      1.3          1.6   \n",
       "3  B003WNXZZO      3.8          5.6   \n",
       "4  B001B7GJ2E      1.7          2.2   \n",
       "\n",
       "                                       review_concat  \\\n",
       "0  love brush I never tried mini kabuki brush one...   \n",
       "1  great mask clear skin never tried type mask re...   \n",
       "2  received product consideration tomoson like id...   \n",
       "3  unfortunately burn skinnormal rose water doesn...   \n",
       "4  amazing tool hat like little curve end side ma...   \n",
       "\n",
       "                                      summary_concat  overall rating  \\\n",
       "0  love brush great brush perfect countouring gre...               5   \n",
       "1  five star awesome improvement not clear enough...               5   \n",
       "2  nice natural exfoliant freaking cool amazing w...               5   \n",
       "3  unfortunately burn skin normal rose water not ...               1   \n",
       "4  amazing attention mom help teen prevent pockma...               5   \n",
       "\n",
       "                                                name             category  \\\n",
       "0  Mini Kabuki Makeup Brush Set – Beauty Junkees ...  Tools & Accessories   \n",
       "1  Origins Clear Improvement Active Charcoal Mask...            Skin Care   \n",
       "2  pureSOL Konjac Sponge - Activated Charcoal - F...        Personal Care   \n",
       "3  Shea Terra Organics Beauty Water, Toner & Face...            Skin Care   \n",
       "4       Body Toolz Double Loop Facial Skin Care Tool  Tools & Accessories   \n",
       "\n",
       "                                         description  price  rating  \\\n",
       "0  Brand\\n\\n\\nBeauty Junkees\\n\\n\\n\\n\\nColor\\n\\n\\n...  19.97     4.6   \n",
       "1  Brand\\n\\n\\nOrigins\\n\\n\\n\\n\\nSkin Type\\n\\n\\nAll...  14.25     4.5   \n",
       "2  Color\\n\\n\\nBamboo Charcoal\\n\\n\\n\\n\\nBrand\\n\\n\\...  10.00     4.2   \n",
       "3  Ingredients\\n\\n\\nPure Moroccan rose water, Est...  15.75     4.3   \n",
       "4  Brand\\n\\n\\nBody Toolz\\n\\n\\n\\n\\nMaterial\\n\\n\\nS...   7.75     4.1   \n",
       "\n",
       "   No_of_Rating  \n",
       "0          1366  \n",
       "1          1082  \n",
       "2          2466  \n",
       "3           120  \n",
       "4           673  "
      ]
     },
     "execution_count": 41,
     "metadata": {},
     "output_type": "execute_result"
    }
   ],
   "source": [
    "Amazon_beauty_data.head()"
   ]
  },
  {
   "cell_type": "markdown",
   "metadata": {},
   "source": [
    "# Exploratory Analysis "
   ]
  },
  {
   "cell_type": "markdown",
   "metadata": {},
   "source": [
    "The dataframe Amazon_beauty_data contains record from 2014 dataset collected from \"http://jmcauley.ucsd.edu/data/amazon/index.html\" and scraped data from 2021 which were scraped using selenium webdriver and beautiful soup. There are 4242 records the features in Amazon_beauty_data dataframe are:\n",
    "1. asin: unique asin id for each product\n",
    "2. overall rating: the average rating of the products in 2014\n",
    "3. review_concat: The concatenated reviews of each product that will be used for NLP Sentiment analysis in future\n",
    "4. helpful and unhelpful: Although it's an average of all the helpful and unhelpful tags to reviews of each product,\n",
    "it gives an idea of how many people actually go through the reviews and are biased by reviews\n",
    "5. summary_concat: The heading of each review, will also be used for sentiment analysis\n",
    "6. name: name of the product\n",
    "7. category: category of the products. For the sentiment analysis, I will use categories: skincare, makeup and haircare, which has the highest number of records\n",
    "8. description, price: description and of the product\n",
    "9. Rating: current rating\n",
    "10. No_of rating: Number of people who rated the product, gives an idea of how many people purchased the product\n"
   ]
  },
  {
   "cell_type": "code",
   "execution_count": null,
   "metadata": {},
   "outputs": [],
   "source": [
    "#Number of Products in each category"
   ]
  }
 ],
 "metadata": {
  "kernelspec": {
   "display_name": "Python 3",
   "language": "python",
   "name": "python3"
  },
  "language_info": {
   "codemirror_mode": {
    "name": "ipython",
    "version": 3
   },
   "file_extension": ".py",
   "mimetype": "text/x-python",
   "name": "python",
   "nbconvert_exporter": "python",
   "pygments_lexer": "ipython3",
   "version": "3.7.6"
  }
 },
 "nbformat": 4,
 "nbformat_minor": 4
}
