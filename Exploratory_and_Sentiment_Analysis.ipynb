{
 "cells": [
  {
   "cell_type": "code",
   "execution_count": 66,
   "metadata": {},
   "outputs": [],
   "source": [
    "import pandas as pd\n",
    "import pprint\n",
    "import matplotlib as plt\n",
    "from matplotlib import pyplot as plt1\n",
    "import seaborn as sns\n",
    "pp = pprint.PrettyPrinter(indent =4)"
   ]
  },
  {
   "cell_type": "markdown",
   "metadata": {},
   "source": [
    "I will use the CSV files created in part 2 of my project."
   ]
  },
  {
   "cell_type": "code",
   "execution_count": 2,
   "metadata": {},
   "outputs": [],
   "source": [
    "Amazon_beauty_data= pd.read_csv('Final_Beauty_Data.csv')"
   ]
  },
  {
   "cell_type": "code",
   "execution_count": 3,
   "metadata": {},
   "outputs": [
    {
     "data": {
      "text/html": [
       "<div>\n",
       "<style scoped>\n",
       "    .dataframe tbody tr th:only-of-type {\n",
       "        vertical-align: middle;\n",
       "    }\n",
       "\n",
       "    .dataframe tbody tr th {\n",
       "        vertical-align: top;\n",
       "    }\n",
       "\n",
       "    .dataframe thead th {\n",
       "        text-align: right;\n",
       "    }\n",
       "</style>\n",
       "<table border=\"1\" class=\"dataframe\">\n",
       "  <thead>\n",
       "    <tr style=\"text-align: right;\">\n",
       "      <th></th>\n",
       "      <th>Unnamed: 0</th>\n",
       "      <th>asin</th>\n",
       "      <th>helpful</th>\n",
       "      <th>Not helpful</th>\n",
       "      <th>review_concat</th>\n",
       "      <th>summary_concat</th>\n",
       "      <th>overall rating</th>\n",
       "      <th>name</th>\n",
       "      <th>category</th>\n",
       "      <th>description</th>\n",
       "      <th>price</th>\n",
       "      <th>rating</th>\n",
       "      <th>No_of_Rating</th>\n",
       "    </tr>\n",
       "  </thead>\n",
       "  <tbody>\n",
       "    <tr>\n",
       "      <th>0</th>\n",
       "      <td>0</td>\n",
       "      <td>B00KWE08Q0</td>\n",
       "      <td>0.9</td>\n",
       "      <td>0.9</td>\n",
       "      <td>love brush I never tried mini kabuki brush one...</td>\n",
       "      <td>love brush great brush perfect countouring gre...</td>\n",
       "      <td>5</td>\n",
       "      <td>Mini Kabuki Makeup Brush Set – Beauty Junkees ...</td>\n",
       "      <td>Tools &amp; Accessories</td>\n",
       "      <td>Brand\\n\\n\\nBeauty Junkees\\n\\n\\n\\n\\nColor\\n\\n\\n...</td>\n",
       "      <td>19.97</td>\n",
       "      <td>4.6</td>\n",
       "      <td>1366</td>\n",
       "    </tr>\n",
       "    <tr>\n",
       "      <th>1</th>\n",
       "      <td>1</td>\n",
       "      <td>B004W75SLI</td>\n",
       "      <td>1.6</td>\n",
       "      <td>3.2</td>\n",
       "      <td>great mask clear skin never tried type mask re...</td>\n",
       "      <td>five star awesome improvement not clear enough...</td>\n",
       "      <td>5</td>\n",
       "      <td>Origins Clear Improvement Active Charcoal Mask...</td>\n",
       "      <td>Skin Care</td>\n",
       "      <td>Brand\\n\\n\\nOrigins\\n\\n\\n\\n\\nSkin Type\\n\\n\\nAll...</td>\n",
       "      <td>14.25</td>\n",
       "      <td>4.5</td>\n",
       "      <td>1082</td>\n",
       "    </tr>\n",
       "    <tr>\n",
       "      <th>2</th>\n",
       "      <td>2</td>\n",
       "      <td>B00JL2TURM</td>\n",
       "      <td>1.3</td>\n",
       "      <td>1.6</td>\n",
       "      <td>received product consideration tomoson like id...</td>\n",
       "      <td>nice natural exfoliant freaking cool amazing w...</td>\n",
       "      <td>5</td>\n",
       "      <td>pureSOL Konjac Sponge - Activated Charcoal - F...</td>\n",
       "      <td>Personal Care</td>\n",
       "      <td>Color\\n\\n\\nBamboo Charcoal\\n\\n\\n\\n\\nBrand\\n\\n\\...</td>\n",
       "      <td>10.00</td>\n",
       "      <td>4.2</td>\n",
       "      <td>2466</td>\n",
       "    </tr>\n",
       "    <tr>\n",
       "      <th>3</th>\n",
       "      <td>3</td>\n",
       "      <td>B003WNXZZO</td>\n",
       "      <td>3.8</td>\n",
       "      <td>5.6</td>\n",
       "      <td>unfortunately burn skinnormal rose water doesn...</td>\n",
       "      <td>unfortunately burn skin normal rose water not ...</td>\n",
       "      <td>1</td>\n",
       "      <td>Shea Terra Organics Beauty Water, Toner &amp; Face...</td>\n",
       "      <td>Skin Care</td>\n",
       "      <td>Ingredients\\n\\n\\nPure Moroccan rose water, Est...</td>\n",
       "      <td>15.75</td>\n",
       "      <td>4.3</td>\n",
       "      <td>120</td>\n",
       "    </tr>\n",
       "    <tr>\n",
       "      <th>4</th>\n",
       "      <td>4</td>\n",
       "      <td>B001B7GJ2E</td>\n",
       "      <td>1.7</td>\n",
       "      <td>2.2</td>\n",
       "      <td>amazing tool hat like little curve end side ma...</td>\n",
       "      <td>amazing attention mom help teen prevent pockma...</td>\n",
       "      <td>5</td>\n",
       "      <td>Body Toolz Double Loop Facial Skin Care Tool</td>\n",
       "      <td>Tools &amp; Accessories</td>\n",
       "      <td>Brand\\n\\n\\nBody Toolz\\n\\n\\n\\n\\nMaterial\\n\\n\\nS...</td>\n",
       "      <td>7.75</td>\n",
       "      <td>4.1</td>\n",
       "      <td>673</td>\n",
       "    </tr>\n",
       "  </tbody>\n",
       "</table>\n",
       "</div>"
      ],
      "text/plain": [
       "   Unnamed: 0        asin  helpful  Not helpful  \\\n",
       "0           0  B00KWE08Q0      0.9          0.9   \n",
       "1           1  B004W75SLI      1.6          3.2   \n",
       "2           2  B00JL2TURM      1.3          1.6   \n",
       "3           3  B003WNXZZO      3.8          5.6   \n",
       "4           4  B001B7GJ2E      1.7          2.2   \n",
       "\n",
       "                                       review_concat  \\\n",
       "0  love brush I never tried mini kabuki brush one...   \n",
       "1  great mask clear skin never tried type mask re...   \n",
       "2  received product consideration tomoson like id...   \n",
       "3  unfortunately burn skinnormal rose water doesn...   \n",
       "4  amazing tool hat like little curve end side ma...   \n",
       "\n",
       "                                      summary_concat  overall rating  \\\n",
       "0  love brush great brush perfect countouring gre...               5   \n",
       "1  five star awesome improvement not clear enough...               5   \n",
       "2  nice natural exfoliant freaking cool amazing w...               5   \n",
       "3  unfortunately burn skin normal rose water not ...               1   \n",
       "4  amazing attention mom help teen prevent pockma...               5   \n",
       "\n",
       "                                                name             category  \\\n",
       "0  Mini Kabuki Makeup Brush Set – Beauty Junkees ...  Tools & Accessories   \n",
       "1  Origins Clear Improvement Active Charcoal Mask...            Skin Care   \n",
       "2  pureSOL Konjac Sponge - Activated Charcoal - F...        Personal Care   \n",
       "3  Shea Terra Organics Beauty Water, Toner & Face...            Skin Care   \n",
       "4       Body Toolz Double Loop Facial Skin Care Tool  Tools & Accessories   \n",
       "\n",
       "                                         description  price  rating  \\\n",
       "0  Brand\\n\\n\\nBeauty Junkees\\n\\n\\n\\n\\nColor\\n\\n\\n...  19.97     4.6   \n",
       "1  Brand\\n\\n\\nOrigins\\n\\n\\n\\n\\nSkin Type\\n\\n\\nAll...  14.25     4.5   \n",
       "2  Color\\n\\n\\nBamboo Charcoal\\n\\n\\n\\n\\nBrand\\n\\n\\...  10.00     4.2   \n",
       "3  Ingredients\\n\\n\\nPure Moroccan rose water, Est...  15.75     4.3   \n",
       "4  Brand\\n\\n\\nBody Toolz\\n\\n\\n\\n\\nMaterial\\n\\n\\nS...   7.75     4.1   \n",
       "\n",
       "   No_of_Rating  \n",
       "0          1366  \n",
       "1          1082  \n",
       "2          2466  \n",
       "3           120  \n",
       "4           673  "
      ]
     },
     "execution_count": 3,
     "metadata": {},
     "output_type": "execute_result"
    }
   ],
   "source": [
    "Amazon_beauty_data.head()"
   ]
  },
  {
   "cell_type": "code",
   "execution_count": 4,
   "metadata": {
    "scrolled": true
   },
   "outputs": [
    {
     "data": {
      "text/plain": [
       "(4242, 13)"
      ]
     },
     "execution_count": 4,
     "metadata": {},
     "output_type": "execute_result"
    }
   ],
   "source": [
    "Amazon_beauty_data.shape"
   ]
  },
  {
   "cell_type": "code",
   "execution_count": 5,
   "metadata": {},
   "outputs": [
    {
     "name": "stdout",
     "output_type": "stream",
     "text": [
      "These are the features from dataset\n",
      "Index(['Unnamed: 0', 'asin', 'helpful', 'Not helpful', 'review_concat',\n",
      "       'summary_concat', 'overall rating', 'name', 'category', 'description',\n",
      "       'price', 'rating', 'No_of_Rating'],\n",
      "      dtype='object')\n"
     ]
    }
   ],
   "source": [
    "print('These are the features from dataset')\n",
    "print(Amazon_beauty_data.columns)"
   ]
  },
  {
   "cell_type": "markdown",
   "metadata": {},
   "source": [
    "There are 11 features for each asin in the dataset, out of which 5 features, 'helpful', 'Not helpful', 'review_concat','summary_concat', 'overall rating' are from old dataset \n",
    "\n",
    "6 features, 'name', 'category', 'description','price', 'rating', 'No_of_Rating' are the scraped data\n",
    "\n",
    "I will now look at the datatypes and null values of each column and see if something needs to be changed or dropped"
   ]
  },
  {
   "cell_type": "code",
   "execution_count": 6,
   "metadata": {},
   "outputs": [
    {
     "name": "stdout",
     "output_type": "stream",
     "text": [
      "<class 'pandas.core.frame.DataFrame'>\n",
      "RangeIndex: 4242 entries, 0 to 4241\n",
      "Data columns (total 13 columns):\n",
      " #   Column          Non-Null Count  Dtype  \n",
      "---  ------          --------------  -----  \n",
      " 0   Unnamed: 0      4242 non-null   int64  \n",
      " 1   asin            4242 non-null   object \n",
      " 2   helpful         4242 non-null   float64\n",
      " 3   Not helpful     4242 non-null   float64\n",
      " 4   review_concat   4242 non-null   object \n",
      " 5   summary_concat  4242 non-null   object \n",
      " 6   overall rating  4242 non-null   int64  \n",
      " 7   name            4242 non-null   object \n",
      " 8   category        4242 non-null   object \n",
      " 9   description     4242 non-null   object \n",
      " 10  price           4242 non-null   float64\n",
      " 11  rating          4242 non-null   float64\n",
      " 12  No_of_Rating    4242 non-null   int64  \n",
      "dtypes: float64(4), int64(3), object(6)\n",
      "memory usage: 431.0+ KB\n"
     ]
    }
   ],
   "source": [
    "Amazon_beauty_data.info()"
   ]
  },
  {
   "cell_type": "markdown",
   "metadata": {},
   "source": [
    "The unnamed: 0 columns can be dropped from both dataset"
   ]
  },
  {
   "cell_type": "code",
   "execution_count": 7,
   "metadata": {},
   "outputs": [],
   "source": [
    "Amazon_beauty_data= Amazon_beauty_data.drop('Unnamed: 0',1)"
   ]
  },
  {
   "cell_type": "code",
   "execution_count": 8,
   "metadata": {},
   "outputs": [
    {
     "data": {
      "text/html": [
       "<div>\n",
       "<style scoped>\n",
       "    .dataframe tbody tr th:only-of-type {\n",
       "        vertical-align: middle;\n",
       "    }\n",
       "\n",
       "    .dataframe tbody tr th {\n",
       "        vertical-align: top;\n",
       "    }\n",
       "\n",
       "    .dataframe thead th {\n",
       "        text-align: right;\n",
       "    }\n",
       "</style>\n",
       "<table border=\"1\" class=\"dataframe\">\n",
       "  <thead>\n",
       "    <tr style=\"text-align: right;\">\n",
       "      <th></th>\n",
       "      <th>asin</th>\n",
       "      <th>helpful</th>\n",
       "      <th>Not helpful</th>\n",
       "      <th>review_concat</th>\n",
       "      <th>summary_concat</th>\n",
       "      <th>overall rating</th>\n",
       "      <th>name</th>\n",
       "      <th>category</th>\n",
       "      <th>description</th>\n",
       "      <th>price</th>\n",
       "      <th>rating</th>\n",
       "      <th>No_of_Rating</th>\n",
       "    </tr>\n",
       "  </thead>\n",
       "  <tbody>\n",
       "    <tr>\n",
       "      <th>0</th>\n",
       "      <td>B00KWE08Q0</td>\n",
       "      <td>0.9</td>\n",
       "      <td>0.9</td>\n",
       "      <td>love brush I never tried mini kabuki brush one...</td>\n",
       "      <td>love brush great brush perfect countouring gre...</td>\n",
       "      <td>5</td>\n",
       "      <td>Mini Kabuki Makeup Brush Set – Beauty Junkees ...</td>\n",
       "      <td>Tools &amp; Accessories</td>\n",
       "      <td>Brand\\n\\n\\nBeauty Junkees\\n\\n\\n\\n\\nColor\\n\\n\\n...</td>\n",
       "      <td>19.97</td>\n",
       "      <td>4.6</td>\n",
       "      <td>1366</td>\n",
       "    </tr>\n",
       "    <tr>\n",
       "      <th>1</th>\n",
       "      <td>B004W75SLI</td>\n",
       "      <td>1.6</td>\n",
       "      <td>3.2</td>\n",
       "      <td>great mask clear skin never tried type mask re...</td>\n",
       "      <td>five star awesome improvement not clear enough...</td>\n",
       "      <td>5</td>\n",
       "      <td>Origins Clear Improvement Active Charcoal Mask...</td>\n",
       "      <td>Skin Care</td>\n",
       "      <td>Brand\\n\\n\\nOrigins\\n\\n\\n\\n\\nSkin Type\\n\\n\\nAll...</td>\n",
       "      <td>14.25</td>\n",
       "      <td>4.5</td>\n",
       "      <td>1082</td>\n",
       "    </tr>\n",
       "    <tr>\n",
       "      <th>2</th>\n",
       "      <td>B00JL2TURM</td>\n",
       "      <td>1.3</td>\n",
       "      <td>1.6</td>\n",
       "      <td>received product consideration tomoson like id...</td>\n",
       "      <td>nice natural exfoliant freaking cool amazing w...</td>\n",
       "      <td>5</td>\n",
       "      <td>pureSOL Konjac Sponge - Activated Charcoal - F...</td>\n",
       "      <td>Personal Care</td>\n",
       "      <td>Color\\n\\n\\nBamboo Charcoal\\n\\n\\n\\n\\nBrand\\n\\n\\...</td>\n",
       "      <td>10.00</td>\n",
       "      <td>4.2</td>\n",
       "      <td>2466</td>\n",
       "    </tr>\n",
       "    <tr>\n",
       "      <th>3</th>\n",
       "      <td>B003WNXZZO</td>\n",
       "      <td>3.8</td>\n",
       "      <td>5.6</td>\n",
       "      <td>unfortunately burn skinnormal rose water doesn...</td>\n",
       "      <td>unfortunately burn skin normal rose water not ...</td>\n",
       "      <td>1</td>\n",
       "      <td>Shea Terra Organics Beauty Water, Toner &amp; Face...</td>\n",
       "      <td>Skin Care</td>\n",
       "      <td>Ingredients\\n\\n\\nPure Moroccan rose water, Est...</td>\n",
       "      <td>15.75</td>\n",
       "      <td>4.3</td>\n",
       "      <td>120</td>\n",
       "    </tr>\n",
       "    <tr>\n",
       "      <th>4</th>\n",
       "      <td>B001B7GJ2E</td>\n",
       "      <td>1.7</td>\n",
       "      <td>2.2</td>\n",
       "      <td>amazing tool hat like little curve end side ma...</td>\n",
       "      <td>amazing attention mom help teen prevent pockma...</td>\n",
       "      <td>5</td>\n",
       "      <td>Body Toolz Double Loop Facial Skin Care Tool</td>\n",
       "      <td>Tools &amp; Accessories</td>\n",
       "      <td>Brand\\n\\n\\nBody Toolz\\n\\n\\n\\n\\nMaterial\\n\\n\\nS...</td>\n",
       "      <td>7.75</td>\n",
       "      <td>4.1</td>\n",
       "      <td>673</td>\n",
       "    </tr>\n",
       "  </tbody>\n",
       "</table>\n",
       "</div>"
      ],
      "text/plain": [
       "         asin  helpful  Not helpful  \\\n",
       "0  B00KWE08Q0      0.9          0.9   \n",
       "1  B004W75SLI      1.6          3.2   \n",
       "2  B00JL2TURM      1.3          1.6   \n",
       "3  B003WNXZZO      3.8          5.6   \n",
       "4  B001B7GJ2E      1.7          2.2   \n",
       "\n",
       "                                       review_concat  \\\n",
       "0  love brush I never tried mini kabuki brush one...   \n",
       "1  great mask clear skin never tried type mask re...   \n",
       "2  received product consideration tomoson like id...   \n",
       "3  unfortunately burn skinnormal rose water doesn...   \n",
       "4  amazing tool hat like little curve end side ma...   \n",
       "\n",
       "                                      summary_concat  overall rating  \\\n",
       "0  love brush great brush perfect countouring gre...               5   \n",
       "1  five star awesome improvement not clear enough...               5   \n",
       "2  nice natural exfoliant freaking cool amazing w...               5   \n",
       "3  unfortunately burn skin normal rose water not ...               1   \n",
       "4  amazing attention mom help teen prevent pockma...               5   \n",
       "\n",
       "                                                name             category  \\\n",
       "0  Mini Kabuki Makeup Brush Set – Beauty Junkees ...  Tools & Accessories   \n",
       "1  Origins Clear Improvement Active Charcoal Mask...            Skin Care   \n",
       "2  pureSOL Konjac Sponge - Activated Charcoal - F...        Personal Care   \n",
       "3  Shea Terra Organics Beauty Water, Toner & Face...            Skin Care   \n",
       "4       Body Toolz Double Loop Facial Skin Care Tool  Tools & Accessories   \n",
       "\n",
       "                                         description  price  rating  \\\n",
       "0  Brand\\n\\n\\nBeauty Junkees\\n\\n\\n\\n\\nColor\\n\\n\\n...  19.97     4.6   \n",
       "1  Brand\\n\\n\\nOrigins\\n\\n\\n\\n\\nSkin Type\\n\\n\\nAll...  14.25     4.5   \n",
       "2  Color\\n\\n\\nBamboo Charcoal\\n\\n\\n\\n\\nBrand\\n\\n\\...  10.00     4.2   \n",
       "3  Ingredients\\n\\n\\nPure Moroccan rose water, Est...  15.75     4.3   \n",
       "4  Brand\\n\\n\\nBody Toolz\\n\\n\\n\\n\\nMaterial\\n\\n\\nS...   7.75     4.1   \n",
       "\n",
       "   No_of_Rating  \n",
       "0          1366  \n",
       "1          1082  \n",
       "2          2466  \n",
       "3           120  \n",
       "4           673  "
      ]
     },
     "execution_count": 8,
     "metadata": {},
     "output_type": "execute_result"
    }
   ],
   "source": [
    "Amazon_beauty_data.head()"
   ]
  },
  {
   "cell_type": "markdown",
   "metadata": {},
   "source": [
    "# Exploratory Analysis "
   ]
  },
  {
   "cell_type": "markdown",
   "metadata": {},
   "source": [
    "The dataframe Amazon_beauty_data contains record from 2014 dataset collected from \"http://jmcauley.ucsd.edu/data/amazon/index.html\" and scraped data from 2021 which were scraped using selenium webdriver and beautiful soup. There are 4242 records the features in Amazon_beauty_data dataframe are:\n",
    "1. asin: unique asin id for each product\n",
    "2. overall rating: the average rating of the products in 2014\n",
    "3. review_concat: The concatenated reviews of each product that will be used for NLP Sentiment analysis in future\n",
    "4. helpful and unhelpful: Although it's an average of all the helpful and unhelpful tags to reviews of each product,\n",
    "it gives an idea of how many people actually go through the reviews and are biased by reviews\n",
    "5. summary_concat: The heading of each review, will also be used for sentiment analysis\n",
    "6. name: name of the product\n",
    "7. category: category of the products. For the sentiment analysis, I will use categories: skincare, makeup and haircare, which has the highest number of records\n",
    "8. description, price: description and of the product\n",
    "9. Rating: current rating\n",
    "10. No_of rating: Number of people who rated the product, gives an idea of how many people purchased the product\n"
   ]
  },
  {
   "cell_type": "code",
   "execution_count": 9,
   "metadata": {
    "scrolled": true
   },
   "outputs": [
    {
     "data": {
      "text/plain": [
       "<AxesSubplot:>"
      ]
     },
     "execution_count": 9,
     "metadata": {},
     "output_type": "execute_result"
    },
    {
     "data": {
      "image/png": "[encoded data removed]",
      "text/plain": [
       "<Figure size 432x288 with 1 Axes>"
      ]
     },
     "metadata": {
      "needs_background": "light"
     },
     "output_type": "display_data"
    }
   ],
   "source": [
    "Amazon_beauty_data['category'].value_counts().plot(kind='barh')"
   ]
  },
  {
   "cell_type": "code",
   "execution_count": 23,
   "metadata": {},
   "outputs": [
    {
     "data": {
      "text/plain": [
       "[Text(0, 0, 'Skin Care'),\n",
       " Text(1, 0, 'Hair Care'),\n",
       " Text(2, 0, 'Makeup'),\n",
       " Text(3, 0, 'Foot, Hand & Nail Care'),\n",
       " Text(4, 0, 'Fragrance'),\n",
       " Text(5, 0, 'Tools & Accessories'),\n",
       " Text(6, 0, 'Personal Care'),\n",
       " Text(7, 0, 'Health Care'),\n",
       " Text(8, 0, 'Vitamins & Dietary Supplements'),\n",
       " Text(9, 0, 'Shave & Hair Removal')]"
      ]
     },
     "execution_count": 23,
     "metadata": {},
     "output_type": "execute_result"
    },
    {
     "data": {
      "image/png": "[encoded data removed]",
      "text/plain": [
       "<Figure size 432x288 with 1 Axes>"
      ]
     },
     "metadata": {
      "needs_background": "light"
     },
     "output_type": "display_data"
    }
   ],
   "source": [
    "#I will use seaborn for my plots\n",
    "bar_plot = sns.countplot(x='category',data=Amazon_beauty_data,order=pd.value_counts(Amazon_beauty_data['category']).iloc[:10].index)\n",
    "bar_plot.set_title('Top 10 product categories', fontsize = 23, y =1.05)\n",
    "bar_plot.set_xticklabels(bar_plot.get_xticklabels(),rotation = 90)\n"
   ]
  },
  {
   "cell_type": "markdown",
   "metadata": {},
   "source": [
    "The most purchased product categories are Skin Care, Hair Care, Makeup. Hand & Nail Care and fragnance"
   ]
  },
  {
   "cell_type": "code",
   "execution_count": 24,
   "metadata": {},
   "outputs": [],
   "source": [
    "#Now I will break the data into three categories for further explortory analysis\n",
    "Amazon_skincare=Amazon_beauty_data.loc[Amazon_beauty_data['category']=='Skin Care']\n",
    "Amazon_haircare=Amazon_beauty_data.loc[Amazon_beauty_data['category']=='Hair Care']\n",
    "Amazon_makeup=Amazon_beauty_data.loc[Amazon_beauty_data['category']=='Makeup']"
   ]
  },
  {
   "cell_type": "code",
   "execution_count": 28,
   "metadata": {},
   "outputs": [
    {
     "data": {
      "text/html": [
       "<div>\n",
       "<style scoped>\n",
       "    .dataframe tbody tr th:only-of-type {\n",
       "        vertical-align: middle;\n",
       "    }\n",
       "\n",
       "    .dataframe tbody tr th {\n",
       "        vertical-align: top;\n",
       "    }\n",
       "\n",
       "    .dataframe thead th {\n",
       "        text-align: right;\n",
       "    }\n",
       "</style>\n",
       "<table border=\"1\" class=\"dataframe\">\n",
       "  <thead>\n",
       "    <tr style=\"text-align: right;\">\n",
       "      <th></th>\n",
       "      <th>asin</th>\n",
       "      <th>helpful</th>\n",
       "      <th>Not helpful</th>\n",
       "      <th>review_concat</th>\n",
       "      <th>summary_concat</th>\n",
       "      <th>overall rating</th>\n",
       "      <th>name</th>\n",
       "      <th>category</th>\n",
       "      <th>description</th>\n",
       "      <th>price</th>\n",
       "      <th>rating</th>\n",
       "      <th>No_of_Rating</th>\n",
       "    </tr>\n",
       "  </thead>\n",
       "  <tbody>\n",
       "    <tr>\n",
       "      <th>1</th>\n",
       "      <td>B004W75SLI</td>\n",
       "      <td>1.6</td>\n",
       "      <td>3.2</td>\n",
       "      <td>great mask clear skin never tried type mask re...</td>\n",
       "      <td>five star awesome improvement not clear enough...</td>\n",
       "      <td>5</td>\n",
       "      <td>Origins Clear Improvement Active Charcoal Mask...</td>\n",
       "      <td>Skin Care</td>\n",
       "      <td>Brand\\n\\n\\nOrigins\\n\\n\\n\\n\\nSkin Type\\n\\n\\nAll...</td>\n",
       "      <td>14.25</td>\n",
       "      <td>4.5</td>\n",
       "      <td>1082</td>\n",
       "    </tr>\n",
       "    <tr>\n",
       "      <th>3</th>\n",
       "      <td>B003WNXZZO</td>\n",
       "      <td>3.8</td>\n",
       "      <td>5.6</td>\n",
       "      <td>unfortunately burn skinnormal rose water doesn...</td>\n",
       "      <td>unfortunately burn skin normal rose water not ...</td>\n",
       "      <td>1</td>\n",
       "      <td>Shea Terra Organics Beauty Water, Toner &amp; Face...</td>\n",
       "      <td>Skin Care</td>\n",
       "      <td>Ingredients\\n\\n\\nPure Moroccan rose water, Est...</td>\n",
       "      <td>15.75</td>\n",
       "      <td>4.3</td>\n",
       "      <td>120</td>\n",
       "    </tr>\n",
       "  </tbody>\n",
       "</table>\n",
       "</div>"
      ],
      "text/plain": [
       "         asin  helpful  Not helpful  \\\n",
       "1  B004W75SLI      1.6          3.2   \n",
       "3  B003WNXZZO      3.8          5.6   \n",
       "\n",
       "                                       review_concat  \\\n",
       "1  great mask clear skin never tried type mask re...   \n",
       "3  unfortunately burn skinnormal rose water doesn...   \n",
       "\n",
       "                                      summary_concat  overall rating  \\\n",
       "1  five star awesome improvement not clear enough...               5   \n",
       "3  unfortunately burn skin normal rose water not ...               1   \n",
       "\n",
       "                                                name   category  \\\n",
       "1  Origins Clear Improvement Active Charcoal Mask...  Skin Care   \n",
       "3  Shea Terra Organics Beauty Water, Toner & Face...  Skin Care   \n",
       "\n",
       "                                         description  price  rating  \\\n",
       "1  Brand\\n\\n\\nOrigins\\n\\n\\n\\n\\nSkin Type\\n\\n\\nAll...  14.25     4.5   \n",
       "3  Ingredients\\n\\n\\nPure Moroccan rose water, Est...  15.75     4.3   \n",
       "\n",
       "   No_of_Rating  \n",
       "1          1082  \n",
       "3           120  "
      ]
     },
     "execution_count": 28,
     "metadata": {},
     "output_type": "execute_result"
    }
   ],
   "source": [
    "Amazon_skincare.head(2)"
   ]
  },
  {
   "cell_type": "code",
   "execution_count": 29,
   "metadata": {},
   "outputs": [
    {
     "data": {
      "text/html": [
       "<div>\n",
       "<style scoped>\n",
       "    .dataframe tbody tr th:only-of-type {\n",
       "        vertical-align: middle;\n",
       "    }\n",
       "\n",
       "    .dataframe tbody tr th {\n",
       "        vertical-align: top;\n",
       "    }\n",
       "\n",
       "    .dataframe thead th {\n",
       "        text-align: right;\n",
       "    }\n",
       "</style>\n",
       "<table border=\"1\" class=\"dataframe\">\n",
       "  <thead>\n",
       "    <tr style=\"text-align: right;\">\n",
       "      <th></th>\n",
       "      <th>asin</th>\n",
       "      <th>helpful</th>\n",
       "      <th>Not helpful</th>\n",
       "      <th>review_concat</th>\n",
       "      <th>summary_concat</th>\n",
       "      <th>overall rating</th>\n",
       "      <th>name</th>\n",
       "      <th>category</th>\n",
       "      <th>description</th>\n",
       "      <th>price</th>\n",
       "      <th>rating</th>\n",
       "      <th>No_of_Rating</th>\n",
       "    </tr>\n",
       "  </thead>\n",
       "  <tbody>\n",
       "    <tr>\n",
       "      <th>6</th>\n",
       "      <td>B00H7NKNE6</td>\n",
       "      <td>0.2</td>\n",
       "      <td>0.5</td>\n",
       "      <td>love 100 pure oil recently started getting ess...</td>\n",
       "      <td>great natural alternative shiny hair great cut...</td>\n",
       "      <td>5</td>\n",
       "      <td>Pure EXTRA Virgin Organic Argan Oil - USDA Cer...</td>\n",
       "      <td>Hair Care</td>\n",
       "      <td>Special Ingredients\\n\\n\\nArgan Oil\\n\\n\\n\\n\\nIt...</td>\n",
       "      <td>26.95</td>\n",
       "      <td>4.6</td>\n",
       "      <td>2600</td>\n",
       "    </tr>\n",
       "    <tr>\n",
       "      <th>7</th>\n",
       "      <td>B00HAT8EKW</td>\n",
       "      <td>0.1</td>\n",
       "      <td>0.1</td>\n",
       "      <td>hard water dry climate exposed new mexico scal...</td>\n",
       "      <td>soft shine marvelous moroccan used along condi...</td>\n",
       "      <td>5</td>\n",
       "      <td>Tru Moroccan- Moroccan Oil Shampoo-Best Morocc...</td>\n",
       "      <td>Hair Care</td>\n",
       "      <td>Brand\\n\\n\\nTru Moroccan\\n\\n\\n\\n\\nScent\\n\\n\\nLi...</td>\n",
       "      <td>20.00</td>\n",
       "      <td>4.0</td>\n",
       "      <td>463</td>\n",
       "    </tr>\n",
       "  </tbody>\n",
       "</table>\n",
       "</div>"
      ],
      "text/plain": [
       "         asin  helpful  Not helpful  \\\n",
       "6  B00H7NKNE6      0.2          0.5   \n",
       "7  B00HAT8EKW      0.1          0.1   \n",
       "\n",
       "                                       review_concat  \\\n",
       "6  love 100 pure oil recently started getting ess...   \n",
       "7  hard water dry climate exposed new mexico scal...   \n",
       "\n",
       "                                      summary_concat  overall rating  \\\n",
       "6  great natural alternative shiny hair great cut...               5   \n",
       "7  soft shine marvelous moroccan used along condi...               5   \n",
       "\n",
       "                                                name   category  \\\n",
       "6  Pure EXTRA Virgin Organic Argan Oil - USDA Cer...  Hair Care   \n",
       "7  Tru Moroccan- Moroccan Oil Shampoo-Best Morocc...  Hair Care   \n",
       "\n",
       "                                         description  price  rating  \\\n",
       "6  Special Ingredients\\n\\n\\nArgan Oil\\n\\n\\n\\n\\nIt...  26.95     4.6   \n",
       "7  Brand\\n\\n\\nTru Moroccan\\n\\n\\n\\n\\nScent\\n\\n\\nLi...  20.00     4.0   \n",
       "\n",
       "   No_of_Rating  \n",
       "6          2600  \n",
       "7           463  "
      ]
     },
     "execution_count": 29,
     "metadata": {},
     "output_type": "execute_result"
    }
   ],
   "source": [
    "Amazon_haircare.head(2)"
   ]
  },
  {
   "cell_type": "code",
   "execution_count": 30,
   "metadata": {},
   "outputs": [
    {
     "data": {
      "text/html": [
       "<div>\n",
       "<style scoped>\n",
       "    .dataframe tbody tr th:only-of-type {\n",
       "        vertical-align: middle;\n",
       "    }\n",
       "\n",
       "    .dataframe tbody tr th {\n",
       "        vertical-align: top;\n",
       "    }\n",
       "\n",
       "    .dataframe thead th {\n",
       "        text-align: right;\n",
       "    }\n",
       "</style>\n",
       "<table border=\"1\" class=\"dataframe\">\n",
       "  <thead>\n",
       "    <tr style=\"text-align: right;\">\n",
       "      <th></th>\n",
       "      <th>asin</th>\n",
       "      <th>helpful</th>\n",
       "      <th>Not helpful</th>\n",
       "      <th>review_concat</th>\n",
       "      <th>summary_concat</th>\n",
       "      <th>overall rating</th>\n",
       "      <th>name</th>\n",
       "      <th>category</th>\n",
       "      <th>description</th>\n",
       "      <th>price</th>\n",
       "      <th>rating</th>\n",
       "      <th>No_of_Rating</th>\n",
       "    </tr>\n",
       "  </thead>\n",
       "  <tbody>\n",
       "    <tr>\n",
       "      <th>29</th>\n",
       "      <td>B005FYJB92</td>\n",
       "      <td>0.7</td>\n",
       "      <td>0.8</td>\n",
       "      <td>beautiful color nice consistency item exactly ...</td>\n",
       "      <td>five star not nude not good shade red great pr...</td>\n",
       "      <td>5</td>\n",
       "      <td>NYX Matte Lipstick, Nude</td>\n",
       "      <td>Makeup</td>\n",
       "      <td>Brand\\n\\n\\nNYX PROFESSIONAL MAKEUP\\n\\n\\n\\n\\nIn...</td>\n",
       "      <td>6.0</td>\n",
       "      <td>4.3</td>\n",
       "      <td>17678</td>\n",
       "    </tr>\n",
       "    <tr>\n",
       "      <th>30</th>\n",
       "      <td>B0019IVEEI</td>\n",
       "      <td>0.6</td>\n",
       "      <td>0.7</td>\n",
       "      <td>perfect color contouring ashybrownno orange pu...</td>\n",
       "      <td>perfect color contouring ashybrownno orange wo...</td>\n",
       "      <td>5</td>\n",
       "      <td>theBalm Bahama Mama Bronzer</td>\n",
       "      <td>Makeup</td>\n",
       "      <td>Color\\n\\n\\nNatural Matte\\n\\n\\n\\n\\nBrand\\n\\n\\nT...</td>\n",
       "      <td>20.0</td>\n",
       "      <td>4.7</td>\n",
       "      <td>1433</td>\n",
       "    </tr>\n",
       "  </tbody>\n",
       "</table>\n",
       "</div>"
      ],
      "text/plain": [
       "          asin  helpful  Not helpful  \\\n",
       "29  B005FYJB92      0.7          0.8   \n",
       "30  B0019IVEEI      0.6          0.7   \n",
       "\n",
       "                                        review_concat  \\\n",
       "29  beautiful color nice consistency item exactly ...   \n",
       "30  perfect color contouring ashybrownno orange pu...   \n",
       "\n",
       "                                       summary_concat  overall rating  \\\n",
       "29  five star not nude not good shade red great pr...               5   \n",
       "30  perfect color contouring ashybrownno orange wo...               5   \n",
       "\n",
       "                           name category  \\\n",
       "29     NYX Matte Lipstick, Nude   Makeup   \n",
       "30  theBalm Bahama Mama Bronzer   Makeup   \n",
       "\n",
       "                                          description  price  rating  \\\n",
       "29  Brand\\n\\n\\nNYX PROFESSIONAL MAKEUP\\n\\n\\n\\n\\nIn...    6.0     4.3   \n",
       "30  Color\\n\\n\\nNatural Matte\\n\\n\\n\\n\\nBrand\\n\\n\\nT...   20.0     4.7   \n",
       "\n",
       "    No_of_Rating  \n",
       "29         17678  \n",
       "30          1433  "
      ]
     },
     "execution_count": 30,
     "metadata": {},
     "output_type": "execute_result"
    }
   ],
   "source": [
    "Amazon_makeup.head(2)"
   ]
  },
  {
   "cell_type": "code",
   "execution_count": 76,
   "metadata": {},
   "outputs": [
    {
     "name": "stderr",
     "output_type": "stream",
     "text": [
      "/opt/anaconda3/lib/python3.8/site-packages/seaborn/distributions.py:2557: FutureWarning: `distplot` is a deprecated function and will be removed in a future version. Please adapt your code to use either `displot` (a figure-level function with similar flexibility) or `histplot` (an axes-level function for histograms).\n",
      "  warnings.warn(msg, FutureWarning)\n"
     ]
    },
    {
     "data": {
      "text/plain": [
       "Text(0.5, 0, 'Price')"
      ]
     },
     "execution_count": 76,
     "metadata": {},
     "output_type": "execute_result"
    },
    {
     "data": {
      "image/png": "[encoded data removed]",
      "text/plain": [
       "<Figure size 432x288 with 2 Axes>"
      ]
     },
     "metadata": {
      "needs_background": "light"
     },
     "output_type": "display_data"
    }
   ],
   "source": [
    "#I will look at the prices of top most sold products in each category, The number of ratings gives an idea of how many people\n",
    "#purchased the product\n",
    "fig,axes = plt1.subplots(1,2)\n",
    "skin_price_ratings = sns.scatterplot(x='price', y='No_of_Rating', data=Amazon_skincare,ax = axes[0])\n",
    "skin_price_ratings.set_title('No of Ratings vs price range (skin care products)', fontsize = 10, y =1.05)\n",
    "skin_price = sns.distplot(x = Amazon_skincare['price'], bins = 20, ax = axes[1])\n",
    "skin_price.set_title('Distribution of price within skin products', fontsize = 10, y =1.05)\n",
    "skin_price.set_xlabel(\"Price\", fontsize = 10)\n"
   ]
  },
  {
   "cell_type": "code",
   "execution_count": 56,
   "metadata": {},
   "outputs": [
    {
     "name": "stderr",
     "output_type": "stream",
     "text": [
      "/opt/anaconda3/lib/python3.8/site-packages/seaborn/distributions.py:2557: FutureWarning: `distplot` is a deprecated function and will be removed in a future version. Please adapt your code to use either `displot` (a figure-level function with similar flexibility) or `histplot` (an axes-level function for histograms).\n",
      "  warnings.warn(msg, FutureWarning)\n"
     ]
    },
    {
     "data": {
      "text/plain": [
       "Text(0.5, 0, 'Price')"
      ]
     },
     "execution_count": 56,
     "metadata": {},
     "output_type": "execute_result"
    },
    {
     "data": {
      "image/png": "[encoded data removed]",
      "text/plain": [
       "<Figure size 432x288 with 1 Axes>"
      ]
     },
     "metadata": {
      "needs_background": "light"
     },
     "output_type": "display_data"
    }
   ],
   "source": [
    "\n",
    "skin_price = sns.distplot(x = Amazon_skincare['price'], bins = 20)\n",
    "skin_price.set_title('Distribution of price within skin products', fontsize = 23, y =1.05)\n",
    "skin_price.set_xlabel(\"Price\", fontsize = 20)\n"
   ]
  },
  {
   "cell_type": "markdown",
   "metadata": {},
   "source": [
    "The price Analysis of screen products\n",
    "1. Most purchased products are in the price range 0-50\n",
    "2. Most number of products are between 0-50\n",
    "In skin care category, for expensive products People prefer to go to a store and physically test the product before purchasing. So most products are listed below $50 which is also the range that maximum customers invest on."
   ]
  },
  {
   "cell_type": "code",
   "execution_count": 64,
   "metadata": {},
   "outputs": [
    {
     "data": {
      "text/plain": [
       "Text(0.5, 1.05, 'No of Ratings vs price range(Hair Care Products)')"
      ]
     },
     "execution_count": 64,
     "metadata": {},
     "output_type": "execute_result"
    },
    {
     "data": {
      "image/png": "[encoded data removed]",
      "text/plain": [
       "<Figure size 432x288 with 1 Axes>"
      ]
     },
     "metadata": {
      "needs_background": "light"
     },
     "output_type": "display_data"
    }
   ],
   "source": [
    "hair_price_ratings = sns.scatterplot(x='price', y='No_of_Rating', data=Amazon_haircare)\n",
    "hair_price_ratings.set_title('No of Ratings vs price range(Hair Care Products)', fontsize = 23, y =1.05)\n"
   ]
  },
  {
   "cell_type": "code",
   "execution_count": 57,
   "metadata": {},
   "outputs": [
    {
     "name": "stderr",
     "output_type": "stream",
     "text": [
      "/opt/anaconda3/lib/python3.8/site-packages/seaborn/distributions.py:2557: FutureWarning: `distplot` is a deprecated function and will be removed in a future version. Please adapt your code to use either `displot` (a figure-level function with similar flexibility) or `histplot` (an axes-level function for histograms).\n",
      "  warnings.warn(msg, FutureWarning)\n"
     ]
    },
    {
     "data": {
      "text/plain": [
       "Text(0.5, 0, 'Price')"
      ]
     },
     "execution_count": 57,
     "metadata": {},
     "output_type": "execute_result"
    },
    {
     "data": {
      "image/png": "[encoded data removed]",
      "text/plain": [
       "<Figure size 432x288 with 1 Axes>"
      ]
     },
     "metadata": {
      "needs_background": "light"
     },
     "output_type": "display_data"
    }
   ],
   "source": [
    "hair_price= sns.distplot(x = Amazon_haircare['price'], bins = 20)\n",
    "hair_price.set_title('Distribution of price within hair products', fontsize = 23, y =1.05)\n",
    "hair_price.set_xlabel(\"Price\", fontsize = 20)\n"
   ]
  },
  {
   "cell_type": "code",
   "execution_count": 67,
   "metadata": {
    "scrolled": true
   },
   "outputs": [
    {
     "data": {
      "image/png": "[encoded data removed]",
      "text/plain": [
       "<Figure size 432x288 with 1 Axes>"
      ]
     },
     "metadata": {
      "needs_background": "light"
     },
     "output_type": "display_data"
    }
   ],
   "source": [
    "fig,curr_axes = plt1.subplots()\n"
   ]
  },
  {
   "cell_type": "markdown",
   "metadata": {},
   "source": [
    "Maximum products are listed between $0-50 but on average people spend slightly more money on hair products compared to skin products. \n",
    "More products in the range of $40-50"
   ]
  }
 ],
 "metadata": {
  "kernelspec": {
   "display_name": "Python 3",
   "language": "python",
   "name": "python3"
  },
  "language_info": {
   "codemirror_mode": {
    "name": "ipython",
    "version": 3
   },
   "file_extension": ".py",
   "mimetype": "text/x-python",
   "name": "python",
   "nbconvert_exporter": "python",
   "pygments_lexer": "ipython3",
   "version": "3.8.8"
  }
 },
 "nbformat": 4,
 "nbformat_minor": 4
}
