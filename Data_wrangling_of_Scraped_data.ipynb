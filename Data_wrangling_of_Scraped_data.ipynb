{
 "cells": [
  {
   "cell_type": "code",
   "execution_count": 253,
   "metadata": {},
   "outputs": [],
   "source": [
    "import pandas as pd\n",
    "\n",
    "import numpy as np\n",
    "\n",
    "import pprint\n",
    "pp = pprint.PrettyPrinter(indent =4)"
   ]
  },
  {
   "cell_type": "markdown",
   "metadata": {},
   "source": [
    "There are 9 csv files of available items that needs to be concatenate\n",
    "I will first read those files and save in dictionaries"
   ]
  },
  {
   "cell_type": "code",
   "execution_count": 2,
   "metadata": {},
   "outputs": [],
   "source": [
    "#Read the csv files into pandas dataframe"
   ]
  },
  {
   "cell_type": "code",
   "execution_count": 102,
   "metadata": {},
   "outputs": [],
   "source": [
    "list_of_products_2000 = pd.read_csv(\"list_of_products_2000.csv\") \n",
    "list_of_products_2000=list_of_products_2000.to_dict('records')\n",
    "\n",
    "list_of_available_products_Rerun_2000 = pd.read_csv(\"list_of_available_products_Rerun_2000.csv\") \n",
    "list_of_available_products_Rerun_2000=list_of_available_products_Rerun_2000.to_dict('records')\n",
    "\n",
    "list_of_products_4000 = pd.read_csv(\"list_of_products_4000.csv\") \n",
    "list_of_products_4000=list_of_products_4000.to_dict('records')\n",
    "\n",
    "list_of_available_products_Rerun_4000 = pd.read_csv(\"list_of_available_products_Rerun_4000.csv\") \n",
    "list_of_available_products_Rerun_4000=list_of_available_products_Rerun_4000.to_dict('records')\n",
    "\n",
    "list_of_products_6000 = pd.read_csv(\"list_of_products_6000.csv\") \n",
    "list_of_products_6000=list_of_products_6000.to_dict('records')\n",
    "\n",
    "list_of_available_products_Rerun_6000 = pd.read_csv(\"list_of_available_products_Rerun_6000.csv\") \n",
    "list_of_available_products_Rerun_6000=list_of_available_products_Rerun_6000.to_dict('records')\n",
    "\n",
    "list_of_products_8000 = pd.read_csv(\"list_of_products_8000.csv\") \n",
    "list_of_products_8000=list_of_products_8000.to_dict('records')\n",
    "\n",
    "list_of_products_10000 = pd.read_csv(\"list_of_products_10000.csv\") \n",
    "list_of_products_10000=list_of_products_10000.to_dict('records')\n",
    "\n",
    "list_of_products_12000 = pd.read_csv(\"list_of_products_12000.csv\") \n",
    "list_of_products_12000=list_of_products_12000.to_dict('records')"
   ]
  },
  {
   "cell_type": "code",
   "execution_count": 260,
   "metadata": {},
   "outputs": [
    {
     "name": "stdout",
     "output_type": "stream",
     "text": [
      "{   'No_of_Rating': '1,391 ratings',\n",
      "    'Unnamed: 0': 0,\n",
      "    'asin': '9788072216',\n",
      "    'category': 'Fragrance',\n",
      "    'description': 'Brand Prada Scent Honey, Musk , Vanilla Item Form Spray '\n",
      "                   'Item Weight 278 Grams Item Volume 1.7 Fluid Ounces',\n",
      "    'name': 'Prada Candy by Prada for Women 1.7 oz Eau de Parfum Spray',\n",
      "    'price': '$56.29',\n",
      "    'rating': '4.7 out of 5 stars'}\n"
     ]
    }
   ],
   "source": [
    "pp.pprint(list_of_products_2000[0])\n",
    "pp.pprint(list_of_available_products_Rerun_2000[0])\n",
    "pp.pprint(list_of_products_4000[:10])\n",
    "pp.pprint(list_of_available_products_Rerun_4000[0])\n",
    "pp.pprint(list_of_products_6000[:10])\n",
    "pp.pprint(list_of_available_products_Rerun_6000[0])\n",
    "pp.pprint(list_of_products_8000[0])\n",
    "pp.pprint(list_of_products_10000[0])\n",
    "pp.pprint(list_of_products_12000[0])"
   ]
  },
  {
   "cell_type": "code",
   "execution_count": 104,
   "metadata": {},
   "outputs": [],
   "source": [
    "Final_list_of_available_products = list_of_products_2000 + list_of_available_products_Rerun_2000 + list_of_products_4000 + list_of_available_products_Rerun_4000 + list_of_products_6000 + list_of_available_products_Rerun_6000 + list_of_products_8000 + list_of_products_10000 + list_of_products_12000"
   ]
  },
  {
   "cell_type": "code",
   "execution_count": 105,
   "metadata": {},
   "outputs": [
    {
     "data": {
      "text/plain": [
       "4242"
      ]
     },
     "execution_count": 105,
     "metadata": {},
     "output_type": "execute_result"
    }
   ],
   "source": [
    "len(Final_list_of_available_products)"
   ]
  },
  {
   "cell_type": "markdown",
   "metadata": {},
   "source": [
    "There are 4242 records scraped from amazon.com under the category health and beauty products\n",
    "Next step is to clean the data and keep the information essential to analysis\n"
   ]
  },
  {
   "cell_type": "markdown",
   "metadata": {},
   "source": [
    "# Data Cleaning"
   ]
  },
  {
   "cell_type": "code",
   "execution_count": 106,
   "metadata": {},
   "outputs": [
    {
     "data": {
      "text/plain": [
       "[{'Unnamed: 0': 0,\n",
       "  'asin': '9788072216',\n",
       "  'name': 'Prada Candy by Prada for Women 1.7 oz Eau de Parfum Spray',\n",
       "  'category': 'Fragrance',\n",
       "  'description': 'Brand Prada Scent Honey, Musk , Vanilla Item Form Spray Item Weight 278 Grams Item Volume 1.7 Fluid Ounces',\n",
       "  'price': '$56.29',\n",
       "  'rating': '4.7 out of 5 stars',\n",
       "  'No_of_Rating': '1,391 ratings'},\n",
       " {'Unnamed: 0': 1,\n",
       "  'asin': 'B00004TMFE',\n",
       "  'name': 'Avalon Organics Therapy Thickening Conditioner, Biotin B-Complex, 14 Oz',\n",
       "  'category': 'Hair Care',\n",
       "  'description': 'Brand Avalon Organics Scent Biotin B Hair Type Thin Liquid Volume 14 Fluid Ounces Ingredients Aloe Barbadensis Leaf Juice (Certified Organic Ingredient), Aqua (Water), Brassica Alcohol, Glycerin, Cocos Nucifera (Coconut) Oil (Certified Organic Ingredient), Brassicyl Isoleucinate Esylate, Gluconolactone, Capryloyl Glycerin/Sebacic Acid Copolymer, Cedrus Atlantica Wood Oil, Citrus Aurantifolia (Lime) Oil, Citrus Aurantium Dulcis (Orange) Peel Oil, Citrus Limon (Lemon) Peel Oil, Citrus Paradisi (Grapefruit) Peel Oil, Eucalyptus Globulus Leaf Oil, Juniperus Virginiana Oil, Persea Gratissima (Avocado) Oil (Certified Organic Ingredient), Rosmarinus Officinalis (Rosemary) Leaf Oil, Zingiber Officinale (Ginger) Root Oil, Avena Sativa (Oat) Kernel Extract (Certified Organic Ingredient) (Known as Biotin Carrier), Calendula Officinalis Flower Extract (Certified Organic Ingredient), Chamomilla Recutita (Matricaria) Flower Extract (Certified Organic Ingredient), Chenopodium Quinoa Seed (Certified Organic Ingredient), Citrus Aurantium Dulcis (Orange) Fruit Extract, Citrus Grandis (Grapefruit) Fruit Extract, Daucus Carota Sativa (Carrot) Root Extract (Certified Organic Ingredient), Lavandula Angustifolia (Lavender) Flower/Leaf/Stem Extract (Certified Organic Ingredient), Persea Gratissima (Avocado) Fruit Extract (Certified Organic Ingredient) (Known as Biotin Carrier), Rubus Idaeus (Raspberry) Fruit Extract (Certified Organic Ingredient) (Known as Biotin Carrier), Serenoa Serrulata Fruit Extract (Certified Organic Ingredient) (Saw Palmetto Extract), Solanum Lycopersicum (Tomato) Fruit/Leaf/Stem Extract (Certified Organic Ingredient) (Known as Biotin Carrier), Panthenol, Tocopheryl Acetate, Arachidyl Alcohol, Arginine, Behenyl Alcohol, Beta-Caryophyllene, Diheptyl Succinate, Glyceryl Stearate, Stearyl Alcohol (Certified Organic Ingredient), Calcium Gluconate, Sodium Benzoate, Citral, Limonene.Aloe Barbadensis Leaf Juice (Certified Organic Ingredient), Aqua (Water), Brassica Alcohol, Glycerin, Cocos Nucifera (Coconut) Oil (Certified Organic Ingre… See more',\n",
       "  'price': '$7.81',\n",
       "  'rating': '4.1 out of 5 stars',\n",
       "  'No_of_Rating': '5,646 ratings'},\n",
       " {'Unnamed: 0': 2,\n",
       "  'asin': 'B00004TUBL',\n",
       "  'name': 'CLASSIC Better Living Two Chamber Dispenser, White',\n",
       "  'category': 'Bath',\n",
       "  'description': 'Color White Brand CLASSIC Item Dimensions LxWxH 4 x 11 x 7 inches',\n",
       "  'price': '$39.99',\n",
       "  'rating': '4.3 out of 5 stars',\n",
       "  'No_of_Rating': '99 ratings'}]"
      ]
     },
     "execution_count": 106,
     "metadata": {},
     "output_type": "execute_result"
    }
   ],
   "source": [
    "Final_list_of_available_products[:3]"
   ]
  },
  {
   "cell_type": "code",
   "execution_count": 107,
   "metadata": {},
   "outputs": [],
   "source": [
    "#Removing the column key Unnamed: 0\n",
    "def new_dict(old_dict):\n",
    "    n = old_dict.copy()\n",
    "    n.pop('Unnamed: 0',None)\n",
    "    return n\n",
    "\n",
    "Final_list_of_available_products = list(map(new_dict,Final_list_of_available_products))"
   ]
  },
  {
   "cell_type": "code",
   "execution_count": 108,
   "metadata": {},
   "outputs": [
    {
     "data": {
      "text/plain": [
       "[{'asin': '9788072216',\n",
       "  'name': 'Prada Candy by Prada for Women 1.7 oz Eau de Parfum Spray',\n",
       "  'category': 'Fragrance',\n",
       "  'description': 'Brand Prada Scent Honey, Musk , Vanilla Item Form Spray Item Weight 278 Grams Item Volume 1.7 Fluid Ounces',\n",
       "  'price': '$56.29',\n",
       "  'rating': '4.7 out of 5 stars',\n",
       "  'No_of_Rating': '1,391 ratings'},\n",
       " {'asin': 'B00004TMFE',\n",
       "  'name': 'Avalon Organics Therapy Thickening Conditioner, Biotin B-Complex, 14 Oz',\n",
       "  'category': 'Hair Care',\n",
       "  'description': 'Brand Avalon Organics Scent Biotin B Hair Type Thin Liquid Volume 14 Fluid Ounces Ingredients Aloe Barbadensis Leaf Juice (Certified Organic Ingredient), Aqua (Water), Brassica Alcohol, Glycerin, Cocos Nucifera (Coconut) Oil (Certified Organic Ingredient), Brassicyl Isoleucinate Esylate, Gluconolactone, Capryloyl Glycerin/Sebacic Acid Copolymer, Cedrus Atlantica Wood Oil, Citrus Aurantifolia (Lime) Oil, Citrus Aurantium Dulcis (Orange) Peel Oil, Citrus Limon (Lemon) Peel Oil, Citrus Paradisi (Grapefruit) Peel Oil, Eucalyptus Globulus Leaf Oil, Juniperus Virginiana Oil, Persea Gratissima (Avocado) Oil (Certified Organic Ingredient), Rosmarinus Officinalis (Rosemary) Leaf Oil, Zingiber Officinale (Ginger) Root Oil, Avena Sativa (Oat) Kernel Extract (Certified Organic Ingredient) (Known as Biotin Carrier), Calendula Officinalis Flower Extract (Certified Organic Ingredient), Chamomilla Recutita (Matricaria) Flower Extract (Certified Organic Ingredient), Chenopodium Quinoa Seed (Certified Organic Ingredient), Citrus Aurantium Dulcis (Orange) Fruit Extract, Citrus Grandis (Grapefruit) Fruit Extract, Daucus Carota Sativa (Carrot) Root Extract (Certified Organic Ingredient), Lavandula Angustifolia (Lavender) Flower/Leaf/Stem Extract (Certified Organic Ingredient), Persea Gratissima (Avocado) Fruit Extract (Certified Organic Ingredient) (Known as Biotin Carrier), Rubus Idaeus (Raspberry) Fruit Extract (Certified Organic Ingredient) (Known as Biotin Carrier), Serenoa Serrulata Fruit Extract (Certified Organic Ingredient) (Saw Palmetto Extract), Solanum Lycopersicum (Tomato) Fruit/Leaf/Stem Extract (Certified Organic Ingredient) (Known as Biotin Carrier), Panthenol, Tocopheryl Acetate, Arachidyl Alcohol, Arginine, Behenyl Alcohol, Beta-Caryophyllene, Diheptyl Succinate, Glyceryl Stearate, Stearyl Alcohol (Certified Organic Ingredient), Calcium Gluconate, Sodium Benzoate, Citral, Limonene.Aloe Barbadensis Leaf Juice (Certified Organic Ingredient), Aqua (Water), Brassica Alcohol, Glycerin, Cocos Nucifera (Coconut) Oil (Certified Organic Ingre… See more',\n",
       "  'price': '$7.81',\n",
       "  'rating': '4.1 out of 5 stars',\n",
       "  'No_of_Rating': '5,646 ratings'},\n",
       " {'asin': 'B00004TUBL',\n",
       "  'name': 'CLASSIC Better Living Two Chamber Dispenser, White',\n",
       "  'category': 'Bath',\n",
       "  'description': 'Color White Brand CLASSIC Item Dimensions LxWxH 4 x 11 x 7 inches',\n",
       "  'price': '$39.99',\n",
       "  'rating': '4.3 out of 5 stars',\n",
       "  'No_of_Rating': '99 ratings'}]"
      ]
     },
     "execution_count": 108,
     "metadata": {},
     "output_type": "execute_result"
    }
   ],
   "source": [
    "Final_list_of_available_products[:3]"
   ]
  },
  {
   "cell_type": "code",
   "execution_count": 109,
   "metadata": {},
   "outputs": [],
   "source": [
    "#Removing $ from price,  out of 5 stars from ratings and  ratings from No_of_ratings\n",
    "def cleandata(x):\n",
    "    price = x['price']\n",
    "    rating = x['rating']\n",
    "    No_of_Rating = x['No_of_Rating']\n",
    "    x['price'] = price.replace(\"$\",\"\")\n",
    "    x['rating'] = rating.replace(\" out of 5 stars\",\"\")\n",
    "    x['No_of_Rating'] = No_of_Rating.replace(\" ratings\",\"\")\n",
    "    x['No_of_Rating']= x['No_of_Rating'].replace(\",\",\"\")\n",
    "    return x"
   ]
  },
  {
   "cell_type": "code",
   "execution_count": 110,
   "metadata": {},
   "outputs": [
    {
     "data": {
      "text/plain": [
       "{'asin': '9788072216',\n",
       " 'name': 'Prada Candy by Prada for Women 1.7 oz Eau de Parfum Spray',\n",
       " 'category': 'Fragrance',\n",
       " 'description': 'Brand Prada Scent Honey, Musk , Vanilla Item Form Spray Item Weight 278 Grams Item Volume 1.7 Fluid Ounces',\n",
       " 'price': '56.29',\n",
       " 'rating': '4.7',\n",
       " 'No_of_Rating': '1391'}"
      ]
     },
     "execution_count": 110,
     "metadata": {},
     "output_type": "execute_result"
    }
   ],
   "source": [
    "cleandata({'asin': '9788072216',\n",
    "  'name': 'Prada Candy by Prada for Women 1.7 oz Eau de Parfum Spray',\n",
    "  'category': 'Fragrance',\n",
    "  'description': 'Brand Prada Scent Honey, Musk , Vanilla Item Form Spray Item Weight 278 Grams Item Volume 1.7 Fluid Ounces',\n",
    "  'price': '$56.29',\n",
    "  'rating': '4.7 out of 5 stars',\n",
    "  'No_of_Rating': '1,391 ratings'})"
   ]
  },
  {
   "cell_type": "code",
   "execution_count": 111,
   "metadata": {},
   "outputs": [],
   "source": [
    "Final_list_of_available_products = list(map(lambda x: cleandata(x), Final_list_of_available_products))"
   ]
  },
  {
   "cell_type": "code",
   "execution_count": 112,
   "metadata": {
    "scrolled": true
   },
   "outputs": [
    {
     "data": {
      "text/plain": [
       "[{'asin': '9788072216',\n",
       "  'name': 'Prada Candy by Prada for Women 1.7 oz Eau de Parfum Spray',\n",
       "  'category': 'Fragrance',\n",
       "  'description': 'Brand Prada Scent Honey, Musk , Vanilla Item Form Spray Item Weight 278 Grams Item Volume 1.7 Fluid Ounces',\n",
       "  'price': '56.29',\n",
       "  'rating': '4.7',\n",
       "  'No_of_Rating': '1391'}]"
      ]
     },
     "execution_count": 112,
     "metadata": {},
     "output_type": "execute_result"
    }
   ],
   "source": [
    "Final_list_of_available_products[:1]"
   ]
  },
  {
   "cell_type": "markdown",
   "metadata": {},
   "source": [
    "There are some values for key price that is of the format\n",
    "8.4-29.99. The following function filters out all the dictionaries with the format and return their indices"
   ]
  },
  {
   "cell_type": "code",
   "execution_count": 113,
   "metadata": {},
   "outputs": [
    {
     "data": {
      "text/plain": [
       "[1312, 1500]"
      ]
     },
     "execution_count": 113,
     "metadata": {},
     "output_type": "execute_result"
    }
   ],
   "source": [
    "Range_index = [index for (index, d) in enumerate(Final_list_of_available_products) if d['price'].find('-')>0]\n",
    "Range_index"
   ]
  },
  {
   "cell_type": "code",
   "execution_count": 101,
   "metadata": {},
   "outputs": [
    {
     "data": {
      "text/plain": [
       "{'asin': 'B0015PGFQW',\n",
       " 'name': 'TIGI Bed Head Manipulator, Texture Paste, 2 oz / 57 g',\n",
       " 'category': 'Hair Care',\n",
       " 'description': 'Scent\\n\\n\\n2 PACK\\n\\n\\n\\n\\nBrand\\n\\n\\nTIGI\\n\\n\\n\\n\\nItem Form\\n\\n\\nClay',\n",
       " 'price': '19.195',\n",
       " 'rating': '4.6',\n",
       " 'No_of_Rating': '61'}"
      ]
     },
     "execution_count": 101,
     "metadata": {},
     "output_type": "execute_result"
    }
   ],
   "source": [
    "Final_list_of_available_products[1312]"
   ]
  },
  {
   "cell_type": "markdown",
   "metadata": {},
   "source": [
    "There are two dictionaries with range of entries at index 1312 and 1500. I will modify the price to average\n",
    "I have defined a function that takes the range and run through the list to calculate its average\n",
    "Since list is mutable, it reassigns the average and to keep it even, I have converted the float to int"
   ]
  },
  {
   "cell_type": "code",
   "execution_count": 114,
   "metadata": {},
   "outputs": [],
   "source": [
    "def modify_price(list, Range_index):\n",
    "    for i in Range_index:\n",
    "        dic = list[i]  \n",
    "        a = dic['price']\n",
    "        b = a.replace(\"-\",\" \")\n",
    "        c = b.split()\n",
    "        aver = (float(c[0])+float(c[1]))/2\n",
    "        dic['price'] = str(aver)\n",
    "    \n",
    "\n"
   ]
  },
  {
   "cell_type": "code",
   "execution_count": 115,
   "metadata": {},
   "outputs": [],
   "source": [
    "modify_price(Final_list_of_available_products,Range_index)"
   ]
  },
  {
   "cell_type": "code",
   "execution_count": 117,
   "metadata": {},
   "outputs": [
    {
     "data": {
      "text/plain": [
       "{'asin': 'B001CSNXLC',\n",
       " 'name': '2 Month Supply',\n",
       " 'category': 'Wall Art',\n",
       " 'description': 'Brand\\n\\n\\nKirkland Signature\\n\\n\\n\\n\\nItem Weight\\n\\n\\n0.15 Pounds\\n\\n\\n\\n\\nAge Range (Description)\\n\\n\\nAdult',\n",
       " 'price': '42.375',\n",
       " 'rating': '4.2',\n",
       " 'No_of_Rating': '1067'}"
      ]
     },
     "execution_count": 117,
     "metadata": {},
     "output_type": "execute_result"
    }
   ],
   "source": [
    "Final_list_of_available_products[1500]"
   ]
  },
  {
   "cell_type": "code",
   "execution_count": 118,
   "metadata": {},
   "outputs": [],
   "source": [
    "#changing price and rating to float and No_of ratings to string\n",
    "def strtonum(x):\n",
    "    price = x['price']\n",
    "    rating = x['rating']\n",
    "    No_of_Rating = x['No_of_Rating']\n",
    "    x['price'] = float(price)\n",
    "    x['rating'] = float(rating)\n",
    "    x['No_of_Rating'] = int(No_of_Rating)\n",
    "    return x"
   ]
  },
  {
   "cell_type": "code",
   "execution_count": 119,
   "metadata": {},
   "outputs": [],
   "source": [
    "Final_list_of_available_products = list(map(lambda x: strtonum(x), Final_list_of_available_products))"
   ]
  },
  {
   "cell_type": "code",
   "execution_count": 120,
   "metadata": {
    "scrolled": true
   },
   "outputs": [
    {
     "data": {
      "text/plain": [
       "[{'asin': '9788072216',\n",
       "  'name': 'Prada Candy by Prada for Women 1.7 oz Eau de Parfum Spray',\n",
       "  'category': 'Fragrance',\n",
       "  'description': 'Brand Prada Scent Honey, Musk , Vanilla Item Form Spray Item Weight 278 Grams Item Volume 1.7 Fluid Ounces',\n",
       "  'price': 56.29,\n",
       "  'rating': 4.7,\n",
       "  'No_of_Rating': 1391},\n",
       " {'asin': 'B00004TMFE',\n",
       "  'name': 'Avalon Organics Therapy Thickening Conditioner, Biotin B-Complex, 14 Oz',\n",
       "  'category': 'Hair Care',\n",
       "  'description': 'Brand Avalon Organics Scent Biotin B Hair Type Thin Liquid Volume 14 Fluid Ounces Ingredients Aloe Barbadensis Leaf Juice (Certified Organic Ingredient), Aqua (Water), Brassica Alcohol, Glycerin, Cocos Nucifera (Coconut) Oil (Certified Organic Ingredient), Brassicyl Isoleucinate Esylate, Gluconolactone, Capryloyl Glycerin/Sebacic Acid Copolymer, Cedrus Atlantica Wood Oil, Citrus Aurantifolia (Lime) Oil, Citrus Aurantium Dulcis (Orange) Peel Oil, Citrus Limon (Lemon) Peel Oil, Citrus Paradisi (Grapefruit) Peel Oil, Eucalyptus Globulus Leaf Oil, Juniperus Virginiana Oil, Persea Gratissima (Avocado) Oil (Certified Organic Ingredient), Rosmarinus Officinalis (Rosemary) Leaf Oil, Zingiber Officinale (Ginger) Root Oil, Avena Sativa (Oat) Kernel Extract (Certified Organic Ingredient) (Known as Biotin Carrier), Calendula Officinalis Flower Extract (Certified Organic Ingredient), Chamomilla Recutita (Matricaria) Flower Extract (Certified Organic Ingredient), Chenopodium Quinoa Seed (Certified Organic Ingredient), Citrus Aurantium Dulcis (Orange) Fruit Extract, Citrus Grandis (Grapefruit) Fruit Extract, Daucus Carota Sativa (Carrot) Root Extract (Certified Organic Ingredient), Lavandula Angustifolia (Lavender) Flower/Leaf/Stem Extract (Certified Organic Ingredient), Persea Gratissima (Avocado) Fruit Extract (Certified Organic Ingredient) (Known as Biotin Carrier), Rubus Idaeus (Raspberry) Fruit Extract (Certified Organic Ingredient) (Known as Biotin Carrier), Serenoa Serrulata Fruit Extract (Certified Organic Ingredient) (Saw Palmetto Extract), Solanum Lycopersicum (Tomato) Fruit/Leaf/Stem Extract (Certified Organic Ingredient) (Known as Biotin Carrier), Panthenol, Tocopheryl Acetate, Arachidyl Alcohol, Arginine, Behenyl Alcohol, Beta-Caryophyllene, Diheptyl Succinate, Glyceryl Stearate, Stearyl Alcohol (Certified Organic Ingredient), Calcium Gluconate, Sodium Benzoate, Citral, Limonene.Aloe Barbadensis Leaf Juice (Certified Organic Ingredient), Aqua (Water), Brassica Alcohol, Glycerin, Cocos Nucifera (Coconut) Oil (Certified Organic Ingre… See more',\n",
       "  'price': 7.81,\n",
       "  'rating': 4.1,\n",
       "  'No_of_Rating': 5646},\n",
       " {'asin': 'B00004TUBL',\n",
       "  'name': 'CLASSIC Better Living Two Chamber Dispenser, White',\n",
       "  'category': 'Bath',\n",
       "  'description': 'Color White Brand CLASSIC Item Dimensions LxWxH 4 x 11 x 7 inches',\n",
       "  'price': 39.99,\n",
       "  'rating': 4.3,\n",
       "  'No_of_Rating': 99}]"
      ]
     },
     "execution_count": 120,
     "metadata": {},
     "output_type": "execute_result"
    }
   ],
   "source": [
    "Final_list_of_available_products[:3]"
   ]
  },
  {
   "cell_type": "markdown",
   "metadata": {},
   "source": [
    "Now I have cleaned and formated my scraped data. I will convert my list of dictionary to dataframe"
   ]
  },
  {
   "cell_type": "code",
   "execution_count": 121,
   "metadata": {},
   "outputs": [],
   "source": [
    "Final_list_of_available_products_df = pd.DataFrame(Final_list_of_available_products)"
   ]
  },
  {
   "cell_type": "code",
   "execution_count": 122,
   "metadata": {
    "scrolled": true
   },
   "outputs": [
    {
     "data": {
      "text/html": [
       "<div>\n",
       "<style scoped>\n",
       "    .dataframe tbody tr th:only-of-type {\n",
       "        vertical-align: middle;\n",
       "    }\n",
       "\n",
       "    .dataframe tbody tr th {\n",
       "        vertical-align: top;\n",
       "    }\n",
       "\n",
       "    .dataframe thead th {\n",
       "        text-align: right;\n",
       "    }\n",
       "</style>\n",
       "<table border=\"1\" class=\"dataframe\">\n",
       "  <thead>\n",
       "    <tr style=\"text-align: right;\">\n",
       "      <th></th>\n",
       "      <th>asin</th>\n",
       "      <th>name</th>\n",
       "      <th>category</th>\n",
       "      <th>description</th>\n",
       "      <th>price</th>\n",
       "      <th>rating</th>\n",
       "      <th>No_of_Rating</th>\n",
       "    </tr>\n",
       "  </thead>\n",
       "  <tbody>\n",
       "    <tr>\n",
       "      <th>0</th>\n",
       "      <td>9788072216</td>\n",
       "      <td>Prada Candy by Prada for Women 1.7 oz Eau de P...</td>\n",
       "      <td>Fragrance</td>\n",
       "      <td>Brand Prada Scent Honey, Musk , Vanilla Item F...</td>\n",
       "      <td>56.29</td>\n",
       "      <td>4.7</td>\n",
       "      <td>1391</td>\n",
       "    </tr>\n",
       "    <tr>\n",
       "      <th>1</th>\n",
       "      <td>B00004TMFE</td>\n",
       "      <td>Avalon Organics Therapy Thickening Conditioner...</td>\n",
       "      <td>Hair Care</td>\n",
       "      <td>Brand Avalon Organics Scent Biotin B Hair Type...</td>\n",
       "      <td>7.81</td>\n",
       "      <td>4.1</td>\n",
       "      <td>5646</td>\n",
       "    </tr>\n",
       "    <tr>\n",
       "      <th>2</th>\n",
       "      <td>B00004TUBL</td>\n",
       "      <td>CLASSIC Better Living Two Chamber Dispenser, W...</td>\n",
       "      <td>Bath</td>\n",
       "      <td>Color White Brand CLASSIC Item Dimensions LxWx...</td>\n",
       "      <td>39.99</td>\n",
       "      <td>4.3</td>\n",
       "      <td>99</td>\n",
       "    </tr>\n",
       "    <tr>\n",
       "      <th>3</th>\n",
       "      <td>B00004TUBV</td>\n",
       "      <td>Better Living Products 73350 ULTI-MATE 3 Chamb...</td>\n",
       "      <td>Bath</td>\n",
       "      <td>Color White Material Plastic Brand Better Livi...</td>\n",
       "      <td>38.21</td>\n",
       "      <td>4.5</td>\n",
       "      <td>1245</td>\n",
       "    </tr>\n",
       "    <tr>\n",
       "      <th>4</th>\n",
       "      <td>B000052WYD</td>\n",
       "      <td>Maybelline New York Cover Stick Concealer, Lig...</td>\n",
       "      <td>Makeup</td>\n",
       "      <td>Color Ivory Brand Maybelline New York Ingredie...</td>\n",
       "      <td>4.99</td>\n",
       "      <td>4.6</td>\n",
       "      <td>3316</td>\n",
       "    </tr>\n",
       "  </tbody>\n",
       "</table>\n",
       "</div>"
      ],
      "text/plain": [
       "         asin                                               name   category  \\\n",
       "0  9788072216  Prada Candy by Prada for Women 1.7 oz Eau de P...  Fragrance   \n",
       "1  B00004TMFE  Avalon Organics Therapy Thickening Conditioner...  Hair Care   \n",
       "2  B00004TUBL  CLASSIC Better Living Two Chamber Dispenser, W...       Bath   \n",
       "3  B00004TUBV  Better Living Products 73350 ULTI-MATE 3 Chamb...       Bath   \n",
       "4  B000052WYD  Maybelline New York Cover Stick Concealer, Lig...     Makeup   \n",
       "\n",
       "                                         description  price  rating  \\\n",
       "0  Brand Prada Scent Honey, Musk , Vanilla Item F...  56.29     4.7   \n",
       "1  Brand Avalon Organics Scent Biotin B Hair Type...   7.81     4.1   \n",
       "2  Color White Brand CLASSIC Item Dimensions LxWx...  39.99     4.3   \n",
       "3  Color White Material Plastic Brand Better Livi...  38.21     4.5   \n",
       "4  Color Ivory Brand Maybelline New York Ingredie...   4.99     4.6   \n",
       "\n",
       "   No_of_Rating  \n",
       "0          1391  \n",
       "1          5646  \n",
       "2            99  \n",
       "3          1245  \n",
       "4          3316  "
      ]
     },
     "execution_count": 122,
     "metadata": {},
     "output_type": "execute_result"
    }
   ],
   "source": [
    "Final_list_of_available_products_df.head()"
   ]
  },
  {
   "cell_type": "code",
   "execution_count": 224,
   "metadata": {},
   "outputs": [
    {
     "data": {
      "text/plain": [
       "pandas.core.frame.DataFrame"
      ]
     },
     "execution_count": 224,
     "metadata": {},
     "output_type": "execute_result"
    }
   ],
   "source": [
    "type(Final_list_of_available_products_df)"
   ]
  },
  {
   "cell_type": "code",
   "execution_count": 225,
   "metadata": {
    "scrolled": true
   },
   "outputs": [],
   "source": [
    "group_category = Final_list_of_available_products_df.groupby('category')"
   ]
  },
  {
   "cell_type": "code",
   "execution_count": 226,
   "metadata": {},
   "outputs": [
    {
     "data": {
      "text/plain": [
       "category\n",
       "Baby & Child Care                         2\n",
       "Baby Care                                11\n",
       "Bath                                      6\n",
       "Bedding                                   4\n",
       "Beverages                                 2\n",
       "Camera & Photo                            1\n",
       "Cases, Holsters & Sleeves                 1\n",
       "Costumes & Accessories                    4\n",
       "Diapering                                 1\n",
       "Foot, Hand & Nail Care                  278\n",
       "Fragrance                               268\n",
       "Furniture                                 1\n",
       "Hair Care                              1228\n",
       "Health Care                              51\n",
       "Home Décor Products                       2\n",
       "Household Supplies                        7\n",
       "Kitchen & Dining                          3\n",
       "Luggage & Travel Gear                     1\n",
       "Makeup                                  712\n",
       "Medical Supplies & Equipment              3\n",
       "Men                                       1\n",
       "Oral Care                                 2\n",
       "Outdoor Recreation                        1\n",
       "Painting, Drawing & Art Supplies          1\n",
       "Pantry Staples                            3\n",
       "Personal Care                            56\n",
       "Power & Hand Tools                        1\n",
       "Professional Medical Supplies             1\n",
       "Shave & Hair Removal                     22\n",
       "Shoe, Jewelry & Watch Accessories         1\n",
       "Skin Care                              1309\n",
       "Sports & Fitness                          4\n",
       "Stationery & Gift Wrapping Supplies       1\n",
       "Tools & Accessories                     216\n",
       "Vitamins & Dietary Supplements           32\n",
       "Wall Art                                  1\n",
       "Wellness & Relaxation                     3\n",
       "Women                                     1\n",
       "dtype: int64"
      ]
     },
     "execution_count": 226,
     "metadata": {},
     "output_type": "execute_result"
    }
   ],
   "source": [
    "group_category.size()"
   ]
  },
  {
   "cell_type": "code",
   "execution_count": 123,
   "metadata": {},
   "outputs": [],
   "source": [
    "#Writing into csv file\n",
    "Final_list_of_available_products_df.to_csv('List_of_final_wrangled_product.csv')"
   ]
  },
  {
   "cell_type": "markdown",
   "metadata": {},
   "source": [
    "I will compare the columns in old dataset and columns in scraped dataset and keep the columns required for my analysis "
   ]
  },
  {
   "cell_type": "code",
   "execution_count": 172,
   "metadata": {},
   "outputs": [
    {
     "data": {
      "text/html": [
       "<div>\n",
       "<style scoped>\n",
       "    .dataframe tbody tr th:only-of-type {\n",
       "        vertical-align: middle;\n",
       "    }\n",
       "\n",
       "    .dataframe tbody tr th {\n",
       "        vertical-align: top;\n",
       "    }\n",
       "\n",
       "    .dataframe thead th {\n",
       "        text-align: right;\n",
       "    }\n",
       "</style>\n",
       "<table border=\"1\" class=\"dataframe\">\n",
       "  <thead>\n",
       "    <tr style=\"text-align: right;\">\n",
       "      <th></th>\n",
       "      <th>reviewerID</th>\n",
       "      <th>asin</th>\n",
       "      <th>reviewerName</th>\n",
       "      <th>helpful</th>\n",
       "      <th>reviewText</th>\n",
       "      <th>overall</th>\n",
       "      <th>summary</th>\n",
       "      <th>unixReviewTime</th>\n",
       "      <th>reviewTime</th>\n",
       "    </tr>\n",
       "  </thead>\n",
       "  <tbody>\n",
       "    <tr>\n",
       "      <th>0</th>\n",
       "      <td>A1YJEY40YUW4SE</td>\n",
       "      <td>7806397051</td>\n",
       "      <td>Andrea</td>\n",
       "      <td>[3, 4]</td>\n",
       "      <td>Very oily and creamy. Not at all what I expect...</td>\n",
       "      <td>1</td>\n",
       "      <td>Don't waste your money</td>\n",
       "      <td>1391040000</td>\n",
       "      <td>01 30, 2014</td>\n",
       "    </tr>\n",
       "    <tr>\n",
       "      <th>1</th>\n",
       "      <td>A60XNB876KYML</td>\n",
       "      <td>7806397051</td>\n",
       "      <td>Jessica H.</td>\n",
       "      <td>[1, 1]</td>\n",
       "      <td>This palette was a decent price and I was look...</td>\n",
       "      <td>3</td>\n",
       "      <td>OK Palette!</td>\n",
       "      <td>1397779200</td>\n",
       "      <td>04 18, 2014</td>\n",
       "    </tr>\n",
       "    <tr>\n",
       "      <th>2</th>\n",
       "      <td>A3G6XNM240RMWA</td>\n",
       "      <td>7806397051</td>\n",
       "      <td>Karen</td>\n",
       "      <td>[0, 1]</td>\n",
       "      <td>The texture of this concealer pallet is fantas...</td>\n",
       "      <td>4</td>\n",
       "      <td>great quality</td>\n",
       "      <td>1378425600</td>\n",
       "      <td>09 6, 2013</td>\n",
       "    </tr>\n",
       "    <tr>\n",
       "      <th>3</th>\n",
       "      <td>A1PQFP6SAJ6D80</td>\n",
       "      <td>7806397051</td>\n",
       "      <td>Norah</td>\n",
       "      <td>[2, 2]</td>\n",
       "      <td>I really can't tell what exactly this thing is...</td>\n",
       "      <td>2</td>\n",
       "      <td>Do not work on my face</td>\n",
       "      <td>1386460800</td>\n",
       "      <td>12 8, 2013</td>\n",
       "    </tr>\n",
       "    <tr>\n",
       "      <th>4</th>\n",
       "      <td>A38FVHZTNQ271F</td>\n",
       "      <td>7806397051</td>\n",
       "      <td>Nova Amor</td>\n",
       "      <td>[0, 0]</td>\n",
       "      <td>It was a little smaller than I expected, but t...</td>\n",
       "      <td>3</td>\n",
       "      <td>It's okay.</td>\n",
       "      <td>1382140800</td>\n",
       "      <td>10 19, 2013</td>\n",
       "    </tr>\n",
       "    <tr>\n",
       "      <th>5</th>\n",
       "      <td>A3BTN14HIZET6Z</td>\n",
       "      <td>7806397051</td>\n",
       "      <td>S. M. Randall \"WildHorseWoman\"</td>\n",
       "      <td>[1, 2]</td>\n",
       "      <td>I was very happy to get this palette, now I wi...</td>\n",
       "      <td>5</td>\n",
       "      <td>Very nice palette!</td>\n",
       "      <td>1365984000</td>\n",
       "      <td>04 15, 2013</td>\n",
       "    </tr>\n",
       "    <tr>\n",
       "      <th>6</th>\n",
       "      <td>A1Z59RFKN0M5QL</td>\n",
       "      <td>7806397051</td>\n",
       "      <td>tasha \"luvely12b\"</td>\n",
       "      <td>[1, 3]</td>\n",
       "      <td>PLEASE DONT DO IT! this just rachett the palet...</td>\n",
       "      <td>1</td>\n",
       "      <td>smh!!!</td>\n",
       "      <td>1376611200</td>\n",
       "      <td>08 16, 2013</td>\n",
       "    </tr>\n",
       "    <tr>\n",
       "      <th>7</th>\n",
       "      <td>AWUO9P6PL1SY8</td>\n",
       "      <td>7806397051</td>\n",
       "      <td>TreMagnifique</td>\n",
       "      <td>[0, 1]</td>\n",
       "      <td>Chalky,Not Pigmented,Wears off easily,Not a Co...</td>\n",
       "      <td>2</td>\n",
       "      <td>Chalky, Not Pigmented, Wears off easily, Not a...</td>\n",
       "      <td>1378252800</td>\n",
       "      <td>09 4, 2013</td>\n",
       "    </tr>\n",
       "    <tr>\n",
       "      <th>8</th>\n",
       "      <td>A3LMILRM9OC3SA</td>\n",
       "      <td>9759091062</td>\n",
       "      <td>NaN</td>\n",
       "      <td>[0, 0]</td>\n",
       "      <td>Did nothing for me. Stings when I put it on. I...</td>\n",
       "      <td>2</td>\n",
       "      <td>no Lightening, no Brightening,......NOTHING</td>\n",
       "      <td>1405209600</td>\n",
       "      <td>07 13, 2014</td>\n",
       "    </tr>\n",
       "    <tr>\n",
       "      <th>9</th>\n",
       "      <td>A30IP88QK3YUIO</td>\n",
       "      <td>9759091062</td>\n",
       "      <td>Amina Bint Ibraheem</td>\n",
       "      <td>[0, 0]</td>\n",
       "      <td>I bought this product to get rid of the dark s...</td>\n",
       "      <td>3</td>\n",
       "      <td>Its alright</td>\n",
       "      <td>1388102400</td>\n",
       "      <td>12 27, 2013</td>\n",
       "    </tr>\n",
       "  </tbody>\n",
       "</table>\n",
       "</div>"
      ],
      "text/plain": [
       "       reviewerID        asin                    reviewerName helpful  \\\n",
       "0  A1YJEY40YUW4SE  7806397051                          Andrea  [3, 4]   \n",
       "1   A60XNB876KYML  7806397051                      Jessica H.  [1, 1]   \n",
       "2  A3G6XNM240RMWA  7806397051                           Karen  [0, 1]   \n",
       "3  A1PQFP6SAJ6D80  7806397051                           Norah  [2, 2]   \n",
       "4  A38FVHZTNQ271F  7806397051                       Nova Amor  [0, 0]   \n",
       "5  A3BTN14HIZET6Z  7806397051  S. M. Randall \"WildHorseWoman\"  [1, 2]   \n",
       "6  A1Z59RFKN0M5QL  7806397051               tasha \"luvely12b\"  [1, 3]   \n",
       "7   AWUO9P6PL1SY8  7806397051                   TreMagnifique  [0, 1]   \n",
       "8  A3LMILRM9OC3SA  9759091062                             NaN  [0, 0]   \n",
       "9  A30IP88QK3YUIO  9759091062             Amina Bint Ibraheem  [0, 0]   \n",
       "\n",
       "                                          reviewText  overall  \\\n",
       "0  Very oily and creamy. Not at all what I expect...        1   \n",
       "1  This palette was a decent price and I was look...        3   \n",
       "2  The texture of this concealer pallet is fantas...        4   \n",
       "3  I really can't tell what exactly this thing is...        2   \n",
       "4  It was a little smaller than I expected, but t...        3   \n",
       "5  I was very happy to get this palette, now I wi...        5   \n",
       "6  PLEASE DONT DO IT! this just rachett the palet...        1   \n",
       "7  Chalky,Not Pigmented,Wears off easily,Not a Co...        2   \n",
       "8  Did nothing for me. Stings when I put it on. I...        2   \n",
       "9  I bought this product to get rid of the dark s...        3   \n",
       "\n",
       "                                             summary  unixReviewTime  \\\n",
       "0                             Don't waste your money      1391040000   \n",
       "1                                        OK Palette!      1397779200   \n",
       "2                                      great quality      1378425600   \n",
       "3                             Do not work on my face      1386460800   \n",
       "4                                         It's okay.      1382140800   \n",
       "5                                 Very nice palette!      1365984000   \n",
       "6                                             smh!!!      1376611200   \n",
       "7  Chalky, Not Pigmented, Wears off easily, Not a...      1378252800   \n",
       "8        no Lightening, no Brightening,......NOTHING      1405209600   \n",
       "9                                        Its alright      1388102400   \n",
       "\n",
       "    reviewTime  \n",
       "0  01 30, 2014  \n",
       "1  04 18, 2014  \n",
       "2   09 6, 2013  \n",
       "3   12 8, 2013  \n",
       "4  10 19, 2013  \n",
       "5  04 15, 2013  \n",
       "6  08 16, 2013  \n",
       "7   09 4, 2013  \n",
       "8  07 13, 2014  \n",
       "9  12 27, 2013  "
      ]
     },
     "execution_count": 172,
     "metadata": {},
     "output_type": "execute_result"
    }
   ],
   "source": [
    "Review = pd.read_json('reviews_Beauty_5.json',lines = True)\n",
    "Review.head(10)"
   ]
  },
  {
   "cell_type": "code",
   "execution_count": 173,
   "metadata": {},
   "outputs": [
    {
     "name": "stdout",
     "output_type": "stream",
     "text": [
      "These are the columns in old dataset\n",
      "Index(['reviewerID', 'asin', 'reviewerName', 'helpful', 'reviewText',\n",
      "       'overall', 'summary', 'unixReviewTime', 'reviewTime'],\n",
      "      dtype='object')\n",
      "These are the columns in scraped dataset\n",
      "Index(['asin', 'name', 'category', 'description', 'price', 'rating',\n",
      "       'No_of_Rating'],\n",
      "      dtype='object')\n"
     ]
    }
   ],
   "source": [
    "print(\"These are the columns in old dataset\")\n",
    "print(Review.columns)\n",
    "print(\"These are the columns in scraped dataset\")\n",
    "print(Final_list_of_available_products_df.columns)"
   ]
  },
  {
   "cell_type": "markdown",
   "metadata": {},
   "source": [
    "1. asin id: This is the primary key for my scraped data and will be used to join the two dataframes\n",
    "2. reviewer id: I will keep this for future plan of building a recommender system\n",
    "3. helpful: This column will help in sentimental analysis \n",
    "4. overall: This were the ratings in 2014 and will be averaged to compare with the rating in 2021 which is scraped to see the difference to find a correlation with sentiment analysis\n",
    "5. Name and description: The scraped name and description of the product, I will keep it for my NLP and sentiment analysis\n",
    "6. Category: This is the scraped data and will be helpful in analytics\n",
    "7. price: This will be kept for price analysis\n",
    "8. Rating: This is the 2021 rating and will be used to see the change from 2014\n",
    "9. No_of_Ratings: This gives an idea about the number of people who purchased the product\n",
    "10. reviewText: This is the review from 2014 and will be used in NLP for sentiment analysis\n",
    "11. Summary : Short heading of the review, again helpful in NLP\n",
    "\n",
    "I will drop columns, reviewerName, unixReviewTime and reviewtime from old dataset"
   ]
  },
  {
   "cell_type": "code",
   "execution_count": 174,
   "metadata": {},
   "outputs": [],
   "source": [
    "Review = Review.drop(['reviewerName', 'unixReviewTime', 'reviewTime'], axis=1)"
   ]
  },
  {
   "cell_type": "code",
   "execution_count": 175,
   "metadata": {},
   "outputs": [
    {
     "data": {
      "text/html": [
       "<div>\n",
       "<style scoped>\n",
       "    .dataframe tbody tr th:only-of-type {\n",
       "        vertical-align: middle;\n",
       "    }\n",
       "\n",
       "    .dataframe tbody tr th {\n",
       "        vertical-align: top;\n",
       "    }\n",
       "\n",
       "    .dataframe thead th {\n",
       "        text-align: right;\n",
       "    }\n",
       "</style>\n",
       "<table border=\"1\" class=\"dataframe\">\n",
       "  <thead>\n",
       "    <tr style=\"text-align: right;\">\n",
       "      <th></th>\n",
       "      <th>reviewerID</th>\n",
       "      <th>asin</th>\n",
       "      <th>helpful</th>\n",
       "      <th>reviewText</th>\n",
       "      <th>overall</th>\n",
       "      <th>summary</th>\n",
       "    </tr>\n",
       "  </thead>\n",
       "  <tbody>\n",
       "    <tr>\n",
       "      <th>0</th>\n",
       "      <td>A1YJEY40YUW4SE</td>\n",
       "      <td>7806397051</td>\n",
       "      <td>[3, 4]</td>\n",
       "      <td>Very oily and creamy. Not at all what I expect...</td>\n",
       "      <td>1</td>\n",
       "      <td>Don't waste your money</td>\n",
       "    </tr>\n",
       "    <tr>\n",
       "      <th>1</th>\n",
       "      <td>A60XNB876KYML</td>\n",
       "      <td>7806397051</td>\n",
       "      <td>[1, 1]</td>\n",
       "      <td>This palette was a decent price and I was look...</td>\n",
       "      <td>3</td>\n",
       "      <td>OK Palette!</td>\n",
       "    </tr>\n",
       "    <tr>\n",
       "      <th>2</th>\n",
       "      <td>A3G6XNM240RMWA</td>\n",
       "      <td>7806397051</td>\n",
       "      <td>[0, 1]</td>\n",
       "      <td>The texture of this concealer pallet is fantas...</td>\n",
       "      <td>4</td>\n",
       "      <td>great quality</td>\n",
       "    </tr>\n",
       "    <tr>\n",
       "      <th>3</th>\n",
       "      <td>A1PQFP6SAJ6D80</td>\n",
       "      <td>7806397051</td>\n",
       "      <td>[2, 2]</td>\n",
       "      <td>I really can't tell what exactly this thing is...</td>\n",
       "      <td>2</td>\n",
       "      <td>Do not work on my face</td>\n",
       "    </tr>\n",
       "    <tr>\n",
       "      <th>4</th>\n",
       "      <td>A38FVHZTNQ271F</td>\n",
       "      <td>7806397051</td>\n",
       "      <td>[0, 0]</td>\n",
       "      <td>It was a little smaller than I expected, but t...</td>\n",
       "      <td>3</td>\n",
       "      <td>It's okay.</td>\n",
       "    </tr>\n",
       "  </tbody>\n",
       "</table>\n",
       "</div>"
      ],
      "text/plain": [
       "       reviewerID        asin helpful  \\\n",
       "0  A1YJEY40YUW4SE  7806397051  [3, 4]   \n",
       "1   A60XNB876KYML  7806397051  [1, 1]   \n",
       "2  A3G6XNM240RMWA  7806397051  [0, 1]   \n",
       "3  A1PQFP6SAJ6D80  7806397051  [2, 2]   \n",
       "4  A38FVHZTNQ271F  7806397051  [0, 0]   \n",
       "\n",
       "                                          reviewText  overall  \\\n",
       "0  Very oily and creamy. Not at all what I expect...        1   \n",
       "1  This palette was a decent price and I was look...        3   \n",
       "2  The texture of this concealer pallet is fantas...        4   \n",
       "3  I really can't tell what exactly this thing is...        2   \n",
       "4  It was a little smaller than I expected, but t...        3   \n",
       "\n",
       "                  summary  \n",
       "0  Don't waste your money  \n",
       "1             OK Palette!  \n",
       "2           great quality  \n",
       "3  Do not work on my face  \n",
       "4              It's okay.  "
      ]
     },
     "execution_count": 175,
     "metadata": {},
     "output_type": "execute_result"
    }
   ],
   "source": [
    "Review.head()"
   ]
  },
  {
   "cell_type": "code",
   "execution_count": 176,
   "metadata": {},
   "outputs": [],
   "source": [
    "Review[['helpful1','Not helpful']] = pd.DataFrame(Review.helpful.tolist(), index= Review.index)"
   ]
  },
  {
   "cell_type": "code",
   "execution_count": 177,
   "metadata": {
    "scrolled": true
   },
   "outputs": [
    {
     "data": {
      "text/html": [
       "<div>\n",
       "<style scoped>\n",
       "    .dataframe tbody tr th:only-of-type {\n",
       "        vertical-align: middle;\n",
       "    }\n",
       "\n",
       "    .dataframe tbody tr th {\n",
       "        vertical-align: top;\n",
       "    }\n",
       "\n",
       "    .dataframe thead th {\n",
       "        text-align: right;\n",
       "    }\n",
       "</style>\n",
       "<table border=\"1\" class=\"dataframe\">\n",
       "  <thead>\n",
       "    <tr style=\"text-align: right;\">\n",
       "      <th></th>\n",
       "      <th>reviewerID</th>\n",
       "      <th>asin</th>\n",
       "      <th>helpful</th>\n",
       "      <th>reviewText</th>\n",
       "      <th>overall</th>\n",
       "      <th>summary</th>\n",
       "      <th>helpful1</th>\n",
       "      <th>Not helpful</th>\n",
       "    </tr>\n",
       "  </thead>\n",
       "  <tbody>\n",
       "    <tr>\n",
       "      <th>0</th>\n",
       "      <td>A1YJEY40YUW4SE</td>\n",
       "      <td>7806397051</td>\n",
       "      <td>[3, 4]</td>\n",
       "      <td>Very oily and creamy. Not at all what I expect...</td>\n",
       "      <td>1</td>\n",
       "      <td>Don't waste your money</td>\n",
       "      <td>3</td>\n",
       "      <td>4</td>\n",
       "    </tr>\n",
       "    <tr>\n",
       "      <th>1</th>\n",
       "      <td>A60XNB876KYML</td>\n",
       "      <td>7806397051</td>\n",
       "      <td>[1, 1]</td>\n",
       "      <td>This palette was a decent price and I was look...</td>\n",
       "      <td>3</td>\n",
       "      <td>OK Palette!</td>\n",
       "      <td>1</td>\n",
       "      <td>1</td>\n",
       "    </tr>\n",
       "    <tr>\n",
       "      <th>2</th>\n",
       "      <td>A3G6XNM240RMWA</td>\n",
       "      <td>7806397051</td>\n",
       "      <td>[0, 1]</td>\n",
       "      <td>The texture of this concealer pallet is fantas...</td>\n",
       "      <td>4</td>\n",
       "      <td>great quality</td>\n",
       "      <td>0</td>\n",
       "      <td>1</td>\n",
       "    </tr>\n",
       "    <tr>\n",
       "      <th>3</th>\n",
       "      <td>A1PQFP6SAJ6D80</td>\n",
       "      <td>7806397051</td>\n",
       "      <td>[2, 2]</td>\n",
       "      <td>I really can't tell what exactly this thing is...</td>\n",
       "      <td>2</td>\n",
       "      <td>Do not work on my face</td>\n",
       "      <td>2</td>\n",
       "      <td>2</td>\n",
       "    </tr>\n",
       "    <tr>\n",
       "      <th>4</th>\n",
       "      <td>A38FVHZTNQ271F</td>\n",
       "      <td>7806397051</td>\n",
       "      <td>[0, 0]</td>\n",
       "      <td>It was a little smaller than I expected, but t...</td>\n",
       "      <td>3</td>\n",
       "      <td>It's okay.</td>\n",
       "      <td>0</td>\n",
       "      <td>0</td>\n",
       "    </tr>\n",
       "  </tbody>\n",
       "</table>\n",
       "</div>"
      ],
      "text/plain": [
       "       reviewerID        asin helpful  \\\n",
       "0  A1YJEY40YUW4SE  7806397051  [3, 4]   \n",
       "1   A60XNB876KYML  7806397051  [1, 1]   \n",
       "2  A3G6XNM240RMWA  7806397051  [0, 1]   \n",
       "3  A1PQFP6SAJ6D80  7806397051  [2, 2]   \n",
       "4  A38FVHZTNQ271F  7806397051  [0, 0]   \n",
       "\n",
       "                                          reviewText  overall  \\\n",
       "0  Very oily and creamy. Not at all what I expect...        1   \n",
       "1  This palette was a decent price and I was look...        3   \n",
       "2  The texture of this concealer pallet is fantas...        4   \n",
       "3  I really can't tell what exactly this thing is...        2   \n",
       "4  It was a little smaller than I expected, but t...        3   \n",
       "\n",
       "                  summary  helpful1  Not helpful  \n",
       "0  Don't waste your money         3            4  \n",
       "1             OK Palette!         1            1  \n",
       "2           great quality         0            1  \n",
       "3  Do not work on my face         2            2  \n",
       "4              It's okay.         0            0  "
      ]
     },
     "execution_count": 177,
     "metadata": {},
     "output_type": "execute_result"
    }
   ],
   "source": [
    "Review.head()"
   ]
  },
  {
   "cell_type": "code",
   "execution_count": 178,
   "metadata": {},
   "outputs": [
    {
     "data": {
      "text/plain": [
       "reviewerID     object\n",
       "asin           object\n",
       "helpful        object\n",
       "reviewText     object\n",
       "overall         int64\n",
       "summary        object\n",
       "helpful1        int64\n",
       "Not helpful     int64\n",
       "dtype: object"
      ]
     },
     "execution_count": 178,
     "metadata": {},
     "output_type": "execute_result"
    }
   ],
   "source": [
    "#Each asin has multiple reviewer, I will first concatenate the reviews and average\n",
    "#out the rating and store into a new data frame\n",
    "Review.dtypes"
   ]
  },
  {
   "cell_type": "code",
   "execution_count": 179,
   "metadata": {},
   "outputs": [],
   "source": [
    "#Dropping the row helpful\n",
    "Review = Review.drop('helpful', axis=1)"
   ]
  },
  {
   "cell_type": "code",
   "execution_count": 210,
   "metadata": {
    "scrolled": false
   },
   "outputs": [
    {
     "data": {
      "text/html": [
       "<div>\n",
       "<style scoped>\n",
       "    .dataframe tbody tr th:only-of-type {\n",
       "        vertical-align: middle;\n",
       "    }\n",
       "\n",
       "    .dataframe tbody tr th {\n",
       "        vertical-align: top;\n",
       "    }\n",
       "\n",
       "    .dataframe thead th {\n",
       "        text-align: right;\n",
       "    }\n",
       "</style>\n",
       "<table border=\"1\" class=\"dataframe\">\n",
       "  <thead>\n",
       "    <tr style=\"text-align: right;\">\n",
       "      <th></th>\n",
       "      <th>reviewerID</th>\n",
       "      <th>asin</th>\n",
       "      <th>reviewText</th>\n",
       "      <th>overall</th>\n",
       "      <th>summary</th>\n",
       "      <th>helpful1</th>\n",
       "      <th>Not helpful</th>\n",
       "    </tr>\n",
       "  </thead>\n",
       "  <tbody>\n",
       "    <tr>\n",
       "      <th>0</th>\n",
       "      <td>A1YJEY40YUW4SE</td>\n",
       "      <td>7806397051</td>\n",
       "      <td>Very oily and creamy. Not at all what I expect...</td>\n",
       "      <td>1</td>\n",
       "      <td>Don't waste your money</td>\n",
       "      <td>3</td>\n",
       "      <td>4</td>\n",
       "    </tr>\n",
       "    <tr>\n",
       "      <th>1</th>\n",
       "      <td>A60XNB876KYML</td>\n",
       "      <td>7806397051</td>\n",
       "      <td>This palette was a decent price and I was look...</td>\n",
       "      <td>3</td>\n",
       "      <td>OK Palette!</td>\n",
       "      <td>1</td>\n",
       "      <td>1</td>\n",
       "    </tr>\n",
       "    <tr>\n",
       "      <th>2</th>\n",
       "      <td>A3G6XNM240RMWA</td>\n",
       "      <td>7806397051</td>\n",
       "      <td>The texture of this concealer pallet is fantas...</td>\n",
       "      <td>4</td>\n",
       "      <td>great quality</td>\n",
       "      <td>0</td>\n",
       "      <td>1</td>\n",
       "    </tr>\n",
       "    <tr>\n",
       "      <th>3</th>\n",
       "      <td>A1PQFP6SAJ6D80</td>\n",
       "      <td>7806397051</td>\n",
       "      <td>I really can't tell what exactly this thing is...</td>\n",
       "      <td>2</td>\n",
       "      <td>Do not work on my face</td>\n",
       "      <td>2</td>\n",
       "      <td>2</td>\n",
       "    </tr>\n",
       "    <tr>\n",
       "      <th>4</th>\n",
       "      <td>A38FVHZTNQ271F</td>\n",
       "      <td>7806397051</td>\n",
       "      <td>It was a little smaller than I expected, but t...</td>\n",
       "      <td>3</td>\n",
       "      <td>It's okay.</td>\n",
       "      <td>0</td>\n",
       "      <td>0</td>\n",
       "    </tr>\n",
       "  </tbody>\n",
       "</table>\n",
       "</div>"
      ],
      "text/plain": [
       "       reviewerID        asin  \\\n",
       "0  A1YJEY40YUW4SE  7806397051   \n",
       "1   A60XNB876KYML  7806397051   \n",
       "2  A3G6XNM240RMWA  7806397051   \n",
       "3  A1PQFP6SAJ6D80  7806397051   \n",
       "4  A38FVHZTNQ271F  7806397051   \n",
       "\n",
       "                                          reviewText  overall  \\\n",
       "0  Very oily and creamy. Not at all what I expect...        1   \n",
       "1  This palette was a decent price and I was look...        3   \n",
       "2  The texture of this concealer pallet is fantas...        4   \n",
       "3  I really can't tell what exactly this thing is...        2   \n",
       "4  It was a little smaller than I expected, but t...        3   \n",
       "\n",
       "                  summary  helpful1  Not helpful  \n",
       "0  Don't waste your money         3            4  \n",
       "1             OK Palette!         1            1  \n",
       "2           great quality         0            1  \n",
       "3  Do not work on my face         2            2  \n",
       "4              It's okay.         0            0  "
      ]
     },
     "execution_count": 210,
     "metadata": {},
     "output_type": "execute_result"
    }
   ],
   "source": [
    "Review.head()"
   ]
  },
  {
   "cell_type": "code",
   "execution_count": 194,
   "metadata": {},
   "outputs": [],
   "source": [
    "group_asin = Review.groupby('asin')"
   ]
  },
  {
   "cell_type": "code",
   "execution_count": 233,
   "metadata": {},
   "outputs": [],
   "source": [
    "#Finding average rating and number of helpful and unhelpful \n",
    "helpful_avg = group_asin.agg('mean')['helpful1'].reset_index(name = \"helpful\")\n",
    "unhelpful_avg = group_asin.agg('mean')['Not helpful'].reset_index(name = \"Not helpful\")\n",
    "avg_rating = group_asin.agg('mean')['overall'].reset_index(name = \"overall rating\")"
   ]
  },
  {
   "cell_type": "code",
   "execution_count": 238,
   "metadata": {},
   "outputs": [],
   "source": [
    "#Merge these three dataframes\n",
    "helpful_merge = pd.merge(helpful_avg, unhelpful_avg, how ='inner', on ='asin')\n",
    "help_rate_old = pd.merge(avg_rating, helpful_merge, how ='inner', on ='asin')"
   ]
  },
  {
   "cell_type": "code",
   "execution_count": 239,
   "metadata": {},
   "outputs": [
    {
     "data": {
      "text/html": [
       "<div>\n",
       "<style scoped>\n",
       "    .dataframe tbody tr th:only-of-type {\n",
       "        vertical-align: middle;\n",
       "    }\n",
       "\n",
       "    .dataframe tbody tr th {\n",
       "        vertical-align: top;\n",
       "    }\n",
       "\n",
       "    .dataframe thead th {\n",
       "        text-align: right;\n",
       "    }\n",
       "</style>\n",
       "<table border=\"1\" class=\"dataframe\">\n",
       "  <thead>\n",
       "    <tr style=\"text-align: right;\">\n",
       "      <th></th>\n",
       "      <th>asin</th>\n",
       "      <th>overall rating</th>\n",
       "      <th>helpful</th>\n",
       "      <th>Not helpful</th>\n",
       "    </tr>\n",
       "  </thead>\n",
       "  <tbody>\n",
       "    <tr>\n",
       "      <th>0</th>\n",
       "      <td>7806397051</td>\n",
       "      <td>2.625000</td>\n",
       "      <td>1.000000</td>\n",
       "      <td>1.750000</td>\n",
       "    </tr>\n",
       "    <tr>\n",
       "      <th>1</th>\n",
       "      <td>9759091062</td>\n",
       "      <td>3.090909</td>\n",
       "      <td>0.363636</td>\n",
       "      <td>1.000000</td>\n",
       "    </tr>\n",
       "    <tr>\n",
       "      <th>2</th>\n",
       "      <td>9788072216</td>\n",
       "      <td>5.000000</td>\n",
       "      <td>5.400000</td>\n",
       "      <td>5.800000</td>\n",
       "    </tr>\n",
       "    <tr>\n",
       "      <th>3</th>\n",
       "      <td>9790790961</td>\n",
       "      <td>4.333333</td>\n",
       "      <td>0.333333</td>\n",
       "      <td>0.833333</td>\n",
       "    </tr>\n",
       "    <tr>\n",
       "      <th>4</th>\n",
       "      <td>9790794231</td>\n",
       "      <td>3.600000</td>\n",
       "      <td>0.600000</td>\n",
       "      <td>4.800000</td>\n",
       "    </tr>\n",
       "  </tbody>\n",
       "</table>\n",
       "</div>"
      ],
      "text/plain": [
       "         asin  overall rating   helpful  Not helpful\n",
       "0  7806397051        2.625000  1.000000     1.750000\n",
       "1  9759091062        3.090909  0.363636     1.000000\n",
       "2  9788072216        5.000000  5.400000     5.800000\n",
       "3  9790790961        4.333333  0.333333     0.833333\n",
       "4  9790794231        3.600000  0.600000     4.800000"
      ]
     },
     "execution_count": 239,
     "metadata": {},
     "output_type": "execute_result"
    }
   ],
   "source": [
    "help_rate_old.head()"
   ]
  },
  {
   "cell_type": "code",
   "execution_count": 215,
   "metadata": {},
   "outputs": [],
   "source": [
    "Review_concat = group_asin.reviewText.apply(' '.join).reset_index(name = \"review_concat\")"
   ]
  },
  {
   "cell_type": "code",
   "execution_count": 216,
   "metadata": {},
   "outputs": [
    {
     "data": {
      "text/plain": [
       "pandas.core.frame.DataFrame"
      ]
     },
     "execution_count": 216,
     "metadata": {},
     "output_type": "execute_result"
    }
   ],
   "source": [
    "type(Review_concat)"
   ]
  },
  {
   "cell_type": "code",
   "execution_count": 217,
   "metadata": {},
   "outputs": [
    {
     "data": {
      "text/html": [
       "<div>\n",
       "<style scoped>\n",
       "    .dataframe tbody tr th:only-of-type {\n",
       "        vertical-align: middle;\n",
       "    }\n",
       "\n",
       "    .dataframe tbody tr th {\n",
       "        vertical-align: top;\n",
       "    }\n",
       "\n",
       "    .dataframe thead th {\n",
       "        text-align: right;\n",
       "    }\n",
       "</style>\n",
       "<table border=\"1\" class=\"dataframe\">\n",
       "  <thead>\n",
       "    <tr style=\"text-align: right;\">\n",
       "      <th></th>\n",
       "      <th>asin</th>\n",
       "      <th>review_concat</th>\n",
       "    </tr>\n",
       "  </thead>\n",
       "  <tbody>\n",
       "    <tr>\n",
       "      <th>0</th>\n",
       "      <td>7806397051</td>\n",
       "      <td>Very oily and creamy. Not at all what I expect...</td>\n",
       "    </tr>\n",
       "    <tr>\n",
       "      <th>1</th>\n",
       "      <td>9759091062</td>\n",
       "      <td>Did nothing for me. Stings when I put it on. I...</td>\n",
       "    </tr>\n",
       "    <tr>\n",
       "      <th>2</th>\n",
       "      <td>9788072216</td>\n",
       "      <td>I haven't been a big fan of Prada's fragrances...</td>\n",
       "    </tr>\n",
       "    <tr>\n",
       "      <th>3</th>\n",
       "      <td>9790790961</td>\n",
       "      <td>I'm very picky when it comes to fragrance. I l...</td>\n",
       "    </tr>\n",
       "    <tr>\n",
       "      <th>4</th>\n",
       "      <td>9790794231</td>\n",
       "      <td>I like this perfume. I first discovered it whe...</td>\n",
       "    </tr>\n",
       "  </tbody>\n",
       "</table>\n",
       "</div>"
      ],
      "text/plain": [
       "         asin                                      review_concat\n",
       "0  7806397051  Very oily and creamy. Not at all what I expect...\n",
       "1  9759091062  Did nothing for me. Stings when I put it on. I...\n",
       "2  9788072216  I haven't been a big fan of Prada's fragrances...\n",
       "3  9790790961  I'm very picky when it comes to fragrance. I l...\n",
       "4  9790794231  I like this perfume. I first discovered it whe..."
      ]
     },
     "execution_count": 217,
     "metadata": {},
     "output_type": "execute_result"
    }
   ],
   "source": [
    "Review_concat.head()"
   ]
  },
  {
   "cell_type": "code",
   "execution_count": 220,
   "metadata": {},
   "outputs": [
    {
     "data": {
      "text/plain": [
       "\"Very oily and creamy. Not at all what I expected... ordered this to try to highlight and contour and it just looked awful!!! Plus, took FOREVER to arrive. This palette was a decent price and I was looking for a few different shades. This palette conceals decently, however, it does somewhat cake up and crease. The texture of this concealer pallet is fantastic, it has great coverage and a wide variety of uses, I guess it's meant for professional makeup artists and a lot of the colours are of no use to me but I use at least two of them on a regular basis, and two more occasionally, which is the only reason I'm giving it for stars, I feel like the range of colors is kind of a waste for me, but the  product itself  is wonderful, it's not cakey, gives me a natural for and concealed my imperfections, therefore I highly recommend it :) I really can't tell what exactly this thing is. It's not powder but a kind of oil-ish pasty fluid. And so far I tried twice but it doesnt really show any color on my face. It was a little smaller than I expected, but that was okay because it lasted me for a long time. I think it does great coverage for the price I paid. It is heavy, and wears off within 30-1hr. It kinda dries your skin. I'd recommend it to people who are just looking for a cheap coverage, or beginners who are just learning to conceal. I was very happy to get this palette, now I wish it was offered in subscription form like some of the makeup we use daily is.  In this unnamed set you can do a lot of blending, sculpting, highlighting and concealing.  The product is nicely pigmented, it's smooth and applies well then blends out beautifully. I have normal to dry skin as I'm 59 years, this works wonderfully under my foundation.  I also use a silicone based primer,which works well for my skin type to give me the fresh, dewy look I love.You get a good amount of product for your money here, so this is well worth the cost.  What more can you say, if one is willing to repurchase a product then that says more than mere words. PLEASE DONT DO IT! this just rachett the palette size is not like in the picture, the colors go on sheer, slides on face like wax don't expect  your makeup to stay put with this one. just spend the money for the good stuff. 2 thumbs down Chalky,Not Pigmented,Wears off easily,Not a Coastal Scents Dupe,Too many highlighter colors,Does not show up on dark skinned women.I would not recommend.The coastal scents is currently on sale. It's worth the few extra bucks.\""
      ]
     },
     "execution_count": 220,
     "metadata": {},
     "output_type": "execute_result"
    }
   ],
   "source": [
    "Review_concat.iloc[0,1]"
   ]
  },
  {
   "cell_type": "code",
   "execution_count": 246,
   "metadata": {},
   "outputs": [],
   "source": [
    "#Concat the summary column for each asin\n",
    "summary_concat = group_asin.summary.apply(' '.join).reset_index(name = \"summary_concat\")"
   ]
  },
  {
   "cell_type": "code",
   "execution_count": 240,
   "metadata": {},
   "outputs": [],
   "source": [
    "#Merge with help_rate_old\n",
    "help_rate_Review_old = pd.merge(help_rate_old, Review_concat, how ='inner', on ='asin')"
   ]
  },
  {
   "cell_type": "code",
   "execution_count": 247,
   "metadata": {},
   "outputs": [],
   "source": [
    "#Merge summary with help_rate_review_old\n",
    "help_rate_Review_old_summary = pd.merge(help_rate_Review_old, summary_concat, how ='inner', on ='asin')"
   ]
  },
  {
   "cell_type": "code",
   "execution_count": 257,
   "metadata": {},
   "outputs": [],
   "source": [
    "#Round off 2, 3 and 4 columns\n",
    "help_rate_Review_old_summary['overall rating']= help_rate_Review_old_summary['overall rating'].round(decimals = 1)\n",
    "help_rate_Review_old_summary['helpful']=help_rate_Review_old_summary['helpful'].round(decimals = 1)\n",
    "help_rate_Review_old_summary['Not helpful']= help_rate_Review_old_summary['Not helpful'].round(decimals = 1)"
   ]
  },
  {
   "cell_type": "code",
   "execution_count": 258,
   "metadata": {},
   "outputs": [
    {
     "data": {
      "text/html": [
       "<div>\n",
       "<style scoped>\n",
       "    .dataframe tbody tr th:only-of-type {\n",
       "        vertical-align: middle;\n",
       "    }\n",
       "\n",
       "    .dataframe tbody tr th {\n",
       "        vertical-align: top;\n",
       "    }\n",
       "\n",
       "    .dataframe thead th {\n",
       "        text-align: right;\n",
       "    }\n",
       "</style>\n",
       "<table border=\"1\" class=\"dataframe\">\n",
       "  <thead>\n",
       "    <tr style=\"text-align: right;\">\n",
       "      <th></th>\n",
       "      <th>asin</th>\n",
       "      <th>overall rating</th>\n",
       "      <th>helpful</th>\n",
       "      <th>Not helpful</th>\n",
       "      <th>review_concat</th>\n",
       "      <th>summary_concat</th>\n",
       "    </tr>\n",
       "  </thead>\n",
       "  <tbody>\n",
       "    <tr>\n",
       "      <th>0</th>\n",
       "      <td>7806397051</td>\n",
       "      <td>2.6</td>\n",
       "      <td>1.0</td>\n",
       "      <td>1.8</td>\n",
       "      <td>Very oily and creamy. Not at all what I expect...</td>\n",
       "      <td>Don't waste your money OK Palette! great quali...</td>\n",
       "    </tr>\n",
       "    <tr>\n",
       "      <th>1</th>\n",
       "      <td>9759091062</td>\n",
       "      <td>3.1</td>\n",
       "      <td>0.4</td>\n",
       "      <td>1.0</td>\n",
       "      <td>Did nothing for me. Stings when I put it on. I...</td>\n",
       "      <td>no Lightening, no Brightening,......NOTHING It...</td>\n",
       "    </tr>\n",
       "    <tr>\n",
       "      <th>2</th>\n",
       "      <td>9788072216</td>\n",
       "      <td>5.0</td>\n",
       "      <td>5.4</td>\n",
       "      <td>5.8</td>\n",
       "      <td>I haven't been a big fan of Prada's fragrances...</td>\n",
       "      <td>Love the smell of this! Happy Very good Lurrrr...</td>\n",
       "    </tr>\n",
       "    <tr>\n",
       "      <th>3</th>\n",
       "      <td>9790790961</td>\n",
       "      <td>4.3</td>\n",
       "      <td>0.3</td>\n",
       "      <td>0.8</td>\n",
       "      <td>I'm very picky when it comes to fragrance. I l...</td>\n",
       "      <td>Spring Garden in a Bottle fresh smell My new s...</td>\n",
       "    </tr>\n",
       "    <tr>\n",
       "      <th>4</th>\n",
       "      <td>9790794231</td>\n",
       "      <td>3.6</td>\n",
       "      <td>0.6</td>\n",
       "      <td>4.8</td>\n",
       "      <td>I like this perfume. I first discovered it whe...</td>\n",
       "      <td>yummy soft smell intriguing Not for me STELLLA...</td>\n",
       "    </tr>\n",
       "  </tbody>\n",
       "</table>\n",
       "</div>"
      ],
      "text/plain": [
       "         asin  overall rating  helpful  Not helpful  \\\n",
       "0  7806397051             2.6      1.0          1.8   \n",
       "1  9759091062             3.1      0.4          1.0   \n",
       "2  9788072216             5.0      5.4          5.8   \n",
       "3  9790790961             4.3      0.3          0.8   \n",
       "4  9790794231             3.6      0.6          4.8   \n",
       "\n",
       "                                       review_concat  \\\n",
       "0  Very oily and creamy. Not at all what I expect...   \n",
       "1  Did nothing for me. Stings when I put it on. I...   \n",
       "2  I haven't been a big fan of Prada's fragrances...   \n",
       "3  I'm very picky when it comes to fragrance. I l...   \n",
       "4  I like this perfume. I first discovered it whe...   \n",
       "\n",
       "                                      summary_concat  \n",
       "0  Don't waste your money OK Palette! great quali...  \n",
       "1  no Lightening, no Brightening,......NOTHING It...  \n",
       "2  Love the smell of this! Happy Very good Lurrrr...  \n",
       "3  Spring Garden in a Bottle fresh smell My new s...  \n",
       "4  yummy soft smell intriguing Not for me STELLLA...  "
      ]
     },
     "execution_count": 258,
     "metadata": {},
     "output_type": "execute_result"
    }
   ],
   "source": [
    "help_rate_Review_old_summary.head()"
   ]
  },
  {
   "cell_type": "code",
   "execution_count": 249,
   "metadata": {
    "scrolled": true
   },
   "outputs": [
    {
     "data": {
      "text/plain": [
       "\"Very oily and creamy. Not at all what I expected... ordered this to try to highlight and contour and it just looked awful!!! Plus, took FOREVER to arrive. This palette was a decent price and I was looking for a few different shades. This palette conceals decently, however, it does somewhat cake up and crease. The texture of this concealer pallet is fantastic, it has great coverage and a wide variety of uses, I guess it's meant for professional makeup artists and a lot of the colours are of no use to me but I use at least two of them on a regular basis, and two more occasionally, which is the only reason I'm giving it for stars, I feel like the range of colors is kind of a waste for me, but the  product itself  is wonderful, it's not cakey, gives me a natural for and concealed my imperfections, therefore I highly recommend it :) I really can't tell what exactly this thing is. It's not powder but a kind of oil-ish pasty fluid. And so far I tried twice but it doesnt really show any color on my face. It was a little smaller than I expected, but that was okay because it lasted me for a long time. I think it does great coverage for the price I paid. It is heavy, and wears off within 30-1hr. It kinda dries your skin. I'd recommend it to people who are just looking for a cheap coverage, or beginners who are just learning to conceal. I was very happy to get this palette, now I wish it was offered in subscription form like some of the makeup we use daily is.  In this unnamed set you can do a lot of blending, sculpting, highlighting and concealing.  The product is nicely pigmented, it's smooth and applies well then blends out beautifully. I have normal to dry skin as I'm 59 years, this works wonderfully under my foundation.  I also use a silicone based primer,which works well for my skin type to give me the fresh, dewy look I love.You get a good amount of product for your money here, so this is well worth the cost.  What more can you say, if one is willing to repurchase a product then that says more than mere words. PLEASE DONT DO IT! this just rachett the palette size is not like in the picture, the colors go on sheer, slides on face like wax don't expect  your makeup to stay put with this one. just spend the money for the good stuff. 2 thumbs down Chalky,Not Pigmented,Wears off easily,Not a Coastal Scents Dupe,Too many highlighter colors,Does not show up on dark skinned women.I would not recommend.The coastal scents is currently on sale. It's worth the few extra bucks.\""
      ]
     },
     "execution_count": 249,
     "metadata": {},
     "output_type": "execute_result"
    }
   ],
   "source": [
    "help_rate_Review_old_summary.iloc[0,4]"
   ]
  },
  {
   "cell_type": "code",
   "execution_count": 259,
   "metadata": {},
   "outputs": [],
   "source": [
    "#Writing the dataframe to csv file\n",
    "help_rate_Review_old_summary.to_csv('help_rate_Review_summary_old.csv')"
   ]
  },
  {
   "cell_type": "markdown",
   "metadata": {},
   "source": [
    "I will analyze the following dataframes:\n",
    "1. average rating for every unique asin in 2014\n",
    "2. average rating for every unique asin in 2021\n",
    "3. Sentiment Analysis of Reviews in 2014\n",
    "\n",
    "Next steps:\n",
    "1. Exploratory analysis of old and scraped data\n",
    "2. Find the change in average ratings from 2014 to 2021 (delta)\n",
    "3. List down the top 10 positive and negative delta from categories (skincare, makeup and haircare since these three categories have most number of scraped data)\n",
    "4. Scrape the present reviews of those 20 products from these three categories and use NPL for sentiment analysis"
   ]
  }
 ],
 "metadata": {
  "kernelspec": {
   "display_name": "Python 3",
   "language": "python",
   "name": "python3"
  },
  "language_info": {
   "codemirror_mode": {
    "name": "ipython",
    "version": 3
   },
   "file_extension": ".py",
   "mimetype": "text/x-python",
   "name": "python",
   "nbconvert_exporter": "python",
   "pygments_lexer": "ipython3",
   "version": "3.7.6"
  }
 },
 "nbformat": 4,
 "nbformat_minor": 4
}
